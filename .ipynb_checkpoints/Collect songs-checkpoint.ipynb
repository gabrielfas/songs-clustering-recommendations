{
 "cells": [
  {
   "cell_type": "markdown",
   "metadata": {},
   "source": [
    "### About Audio Features\n",
    "\n",
    "| Column   |      Value Type      |  Value Description |\n",
    "|:----------|:--------------------|:-------------------|\n",
    "| id | - | The Spotify ID for the track. |\n",
    "| name | string | Name of the track. |\n",
    "| artist | string | Artist who plays the track. |\n",
    "| artist_id | - | The Spotify ID for the artist. |\n",
    "| album | string | The album where the track is on. |\n",
    "| album_id | - | The Spotify ID for the album. | \n",
    "| popularity | int | The popularity of the track. The value will be between 0 and 100, with 100 being the most popular. The popularity of a track is a value between 0 and 100, with 100 being the most popular. The popularity is calculated by algorithm and is based, in the most part, on the total number of plays the track has had and how recent those plays are. Generally speaking, songs that are being played a lot now will have a higher popularity than songs that were played a lot in the past. Duplicate tracks (e.g. the same track from a single and an album) are rated independently. Artist and album popularity is derived mathematically from track popularity. Note that the popularity value may lag actual popularity by a few days: the value is not updated in real time.|\n",
    "| duration_ms | int | The duration of the track in milliseconds. |\n",
    "| key | int | The estimated overall key of the track. Integers map to pitches using standard Pitch Class notation . E.g. 0 = C, 1 = C♯/D♭, 2 = D, and so on. If no key was detected, the value is -1. |\n",
    "| mode | int | Mode indicates the modality (major or minor) of a track, the type of scale from which its melodic content is derived. Major is represented by 1 and minor is 0. |\n",
    "| acousticness | float | A confidence measure from 0.0 to 1.0 of whether the track is acoustic. 1.0 represents high confidence the track is acoustic. |\n",
    "| danceability | float | Danceability describes how suitable a track is for dancing based on a combination of musical elements including tempo, rhythm stability, beat strength, and overall regularity. A value of 0.0 is least danceable and 1.0 is most danceable. |\n",
    "| energy | float | Energy is a measure from 0.0 to 1.0 and represents a perceptual measure of intensity and activity. Typically, energetic tracks feel fast, loud, and noisy. For example, death metal has high energy, while a Bach prelude scores low on the scale. Perceptual features contributing to this attribute include dynamic range, perceived loudness, timbre, onset rate, and general entropy. |\n",
    "| instrumentalness | float | Predicts whether a track contains no vocals. “Ooh” and “aah” sounds are treated as instrumental in this context. Rap or spoken word tracks are clearly “vocal”. The closer the instrumentalness value is to 1.0, the greater likelihood the track contains no vocal content. Values above 0.5 are intended to represent instrumental tracks, but confidence is higher as the value approaches 1.0. |\n",
    "| liveness | float | Detects the presence of an audience in the recording. Higher liveness values represent an increased probability that the track was performed live. A value above 0.8 provides strong likelihood that the track is live. |\n",
    "| loudness | float | The overall loudness of a track in decibels (dB). Loudness values are averaged across the entire track and are useful for comparing relative loudness of tracks. Loudness is the quality of a sound that is the primary psychological correlate of physical strength (amplitude). Values typical range between -60 and 0 db. |\n",
    "| speechiness | float | Speechiness detects the presence of spoken words in a track. The more exclusively speech-like the recording (e.g. talk show, audio book, poetry), the closer to 1.0 the attribute value. Values above 0.66 describe tracks that are probably made entirely of spoken words. Values between 0.33 and 0.66 describe tracks that may contain both music and speech, either in sections or layered, including such cases as rap music. Values below 0.33 most likely represent music and other non-speech-like tracks. |\n",
    "| valence | float | \tA measure from 0.0 to 1.0 describing the musical positiveness conveyed by a track. Tracks with high valence sound more positive (e.g. happy, cheerful, euphoric), while tracks with low valence sound more negative (e.g. sad, depressed, angry). |\n",
    "| tempo | float | The overall estimated tempo of a track in beats per minute (BPM). In musical terminology, tempo is the speed or pace of a given piece and derives directly from the average beat duration. |\n"
   ]
  },
  {
   "cell_type": "markdown",
   "metadata": {},
   "source": [
    "### Imports"
   ]
  },
  {
   "cell_type": "code",
   "execution_count": 1,
   "metadata": {},
   "outputs": [],
   "source": [
    "from diversify.session import SpotifySession\n",
    "import pandas as pd\n",
    "import missingno as msno\n",
    "\n",
    "%matplotlib inline"
   ]
  },
  {
   "cell_type": "code",
   "execution_count": null,
   "metadata": {},
   "outputs": [],
   "source": [
    "def get_genres(artists_id, session):\n",
    "    response = spfy.artist(artists_id)\n",
    "    if len(response['genres']) == 0:\n",
    "      return []\n",
    "    return response['genres']"
   ]
  },
  {
   "cell_type": "markdown",
   "metadata": {},
   "source": [
    "### Users"
   ]
  },
  {
   "cell_type": "code",
   "execution_count": 2,
   "metadata": {},
   "outputs": [],
   "source": [
    "# Users to login\n",
    "#my_user = '12144777067' # my account\n",
    "my_user = 'rm2azb4jnd15soiqhl5qc9eya' # my other account\n",
    "\n",
    "# Users to collect songs\n",
    "#user = 'belzedu' # Edu\n",
    "#user = 'ilikemiojo' # Maurício\n",
    "#user = 'ebetcel' # Betcel\n",
    "#user = 'andreaskeete' # Bigod\n",
    "#user = 'vi_liraa' # Vini\n",
    "#user = 'luizbarros6' # Dudinha\n",
    "#user = 'diegocostta95' # Diego\n",
    "#user = 'brttrexpeita' # brTT\n",
    "#user = '12152882067' # Élvis\n",
    "#user = '12144777067' # my account\n",
    "user = 'rm2azb4jnd15soiqhl5qc9eya' # my other account"
   ]
  },
  {
   "cell_type": "markdown",
   "metadata": {},
   "source": [
    "### Releasing Spotify API access to my user"
   ]
  },
  {
   "cell_type": "code",
   "execution_count": 3,
   "metadata": {},
   "outputs": [
    {
     "name": "stdout",
     "output_type": "stream",
     "text": [
      "\n",
      "\n",
      "         User authentication requires interaction with your\n",
      "         web browser. Once you enter your credentials and\n",
      "         give authorization, you will be redirected to\n",
      "         a url.  Paste that url you were directed to to\n",
      "         complete the authorization.\n",
      "\n",
      "     \n",
      "Opened https://accounts.spotify.com/authorize?client_id=f4bd9bcb87724721ab5b0a9667f1ae52&response_type=code&redirect_uri=https%3A%2F%2Fedujtm.github.io%2Fdiversify%2Fredirect&scope=playlist-modify-private+user-library-read in your browser\n",
      "\n",
      "\n"
     ]
    },
    {
     "name": "stdin",
     "output_type": "stream",
     "text": [
      "Enter the the code pattern you were given:  AQDVJ86Pge7W_Ev2v_Q9Wd-gG6Bg1NyL1keQRmqk0Y0bp7KTk3Gi-GZVx5bS8l6NNifsl1mBHte8uABzai1F4abVDUPrWOs_m97MwIeeuaCZbHsA3oMAbMOIeLsuISP4Yf476ya-RChTzVGclIlMmlGgYxxTS0dfJtL93g_cJvxyPuxjasXWGNosIMgo7RbIZIgu3Cg7UO6U_z9gkBSaESTH30z7jT3boT-ZPyHXaKRGEOMqgeBac8F1IkQOxYqIjzXC3IxmqWNXKsk9jmVO\n"
     ]
    },
    {
     "name": "stdout",
     "output_type": "stream",
     "text": [
      "\n",
      "\n"
     ]
    }
   ],
   "source": [
    "session = SpotifySession(my_user)"
   ]
  },
  {
   "cell_type": "markdown",
   "metadata": {},
   "source": [
    "### Collecting tracks for the train dataset"
   ]
  },
  {
   "cell_type": "markdown",
   "metadata": {},
   "source": [
    "- Collecting tracks"
   ]
  },
  {
   "cell_type": "code",
   "execution_count": 4,
   "metadata": {},
   "outputs": [
    {
     "name": "stdout",
     "output_type": "stream",
     "text": [
      "(10000, 8)\n"
     ]
    },
    {
     "data": {
      "text/html": [
       "<div>\n",
       "<style scoped>\n",
       "    .dataframe tbody tr th:only-of-type {\n",
       "        vertical-align: middle;\n",
       "    }\n",
       "\n",
       "    .dataframe tbody tr th {\n",
       "        vertical-align: top;\n",
       "    }\n",
       "\n",
       "    .dataframe thead th {\n",
       "        text-align: right;\n",
       "    }\n",
       "</style>\n",
       "<table border=\"1\" class=\"dataframe\">\n",
       "  <thead>\n",
       "    <tr style=\"text-align: right;\">\n",
       "      <th></th>\n",
       "      <th>name</th>\n",
       "      <th>album</th>\n",
       "      <th>album_id</th>\n",
       "      <th>artist</th>\n",
       "      <th>artist_id</th>\n",
       "      <th>id</th>\n",
       "      <th>popularity</th>\n",
       "      <th>duration_ms</th>\n",
       "    </tr>\n",
       "  </thead>\n",
       "  <tbody>\n",
       "    <tr>\n",
       "      <td>0</td>\n",
       "      <td>Lover, Leaver</td>\n",
       "      <td>Lover, Leaver</td>\n",
       "      <td>2pwQljRu5CDZrWWewU4Tdy</td>\n",
       "      <td>Greta Van Fleet</td>\n",
       "      <td>4NpFxQe2UvRCAjto3JqlSl</td>\n",
       "      <td>7wjsFW5cSAGy2T9fZbJ6be</td>\n",
       "      <td>10</td>\n",
       "      <td>215013</td>\n",
       "    </tr>\n",
       "    <tr>\n",
       "      <td>1</td>\n",
       "      <td>When The Curtain Falls</td>\n",
       "      <td>When The Curtain Falls</td>\n",
       "      <td>6sZZUbFqCVf3NLXYBLzFNj</td>\n",
       "      <td>Greta Van Fleet</td>\n",
       "      <td>4NpFxQe2UvRCAjto3JqlSl</td>\n",
       "      <td>3Rw9J03nW964TruD23gfaS</td>\n",
       "      <td>10</td>\n",
       "      <td>221893</td>\n",
       "    </tr>\n",
       "    <tr>\n",
       "      <td>2</td>\n",
       "      <td>インフェルノ</td>\n",
       "      <td>インフェルノ</td>\n",
       "      <td>137FjNv5TRNvbW6D17bQc1</td>\n",
       "      <td>Mrs. GREEN APPLE</td>\n",
       "      <td>4QvgGvpgzgyUOo8Yp8LDm9</td>\n",
       "      <td>64yajM6CxtLghmgB53VeXT</td>\n",
       "      <td>71</td>\n",
       "      <td>212546</td>\n",
       "    </tr>\n",
       "  </tbody>\n",
       "</table>\n",
       "</div>"
      ],
      "text/plain": [
       "                     name                   album                album_id  \\\n",
       "0           Lover, Leaver           Lover, Leaver  2pwQljRu5CDZrWWewU4Tdy   \n",
       "1  When The Curtain Falls  When The Curtain Falls  6sZZUbFqCVf3NLXYBLzFNj   \n",
       "2                  インフェルノ                  インフェルノ  137FjNv5TRNvbW6D17bQc1   \n",
       "\n",
       "             artist               artist_id                      id  \\\n",
       "0   Greta Van Fleet  4NpFxQe2UvRCAjto3JqlSl  7wjsFW5cSAGy2T9fZbJ6be   \n",
       "1   Greta Van Fleet  4NpFxQe2UvRCAjto3JqlSl  3Rw9J03nW964TruD23gfaS   \n",
       "2  Mrs. GREEN APPLE  4QvgGvpgzgyUOo8Yp8LDm9  64yajM6CxtLghmgB53VeXT   \n",
       "\n",
       "   popularity  duration_ms  \n",
       "0          10       215013  \n",
       "1          10       221893  \n",
       "2          71       212546  "
      ]
     },
     "execution_count": 4,
     "metadata": {},
     "output_type": "execute_result"
    }
   ],
   "source": [
    "songs = session.get_favorite_songs()\n",
    "df_songs = pd.DataFrame(songs)\n",
    "\n",
    "print(df_songs.shape)\n",
    "df_songs.head(3)"
   ]
  },
  {
   "cell_type": "markdown",
   "metadata": {},
   "source": [
    "- Collecting features for the tracks above"
   ]
  },
  {
   "cell_type": "code",
   "execution_count": 5,
   "metadata": {},
   "outputs": [
    {
     "name": "stdout",
     "output_type": "stream",
     "text": [
      "(10000, 12)\n"
     ]
    },
    {
     "data": {
      "text/html": [
       "<div>\n",
       "<style scoped>\n",
       "    .dataframe tbody tr th:only-of-type {\n",
       "        vertical-align: middle;\n",
       "    }\n",
       "\n",
       "    .dataframe tbody tr th {\n",
       "        vertical-align: top;\n",
       "    }\n",
       "\n",
       "    .dataframe thead th {\n",
       "        text-align: right;\n",
       "    }\n",
       "</style>\n",
       "<table border=\"1\" class=\"dataframe\">\n",
       "  <thead>\n",
       "    <tr style=\"text-align: right;\">\n",
       "      <th></th>\n",
       "      <th>id</th>\n",
       "      <th>speechiness</th>\n",
       "      <th>valence</th>\n",
       "      <th>mode</th>\n",
       "      <th>liveness</th>\n",
       "      <th>key</th>\n",
       "      <th>danceability</th>\n",
       "      <th>loudness</th>\n",
       "      <th>acousticness</th>\n",
       "      <th>instrumentalness</th>\n",
       "      <th>energy</th>\n",
       "      <th>tempo</th>\n",
       "    </tr>\n",
       "  </thead>\n",
       "  <tbody>\n",
       "    <tr>\n",
       "      <td>0</td>\n",
       "      <td>7wjsFW5cSAGy2T9fZbJ6be</td>\n",
       "      <td>0.0475</td>\n",
       "      <td>0.617</td>\n",
       "      <td>1</td>\n",
       "      <td>0.1360</td>\n",
       "      <td>9</td>\n",
       "      <td>0.496</td>\n",
       "      <td>-3.878</td>\n",
       "      <td>0.00213</td>\n",
       "      <td>0.2100</td>\n",
       "      <td>0.922</td>\n",
       "      <td>91.972</td>\n",
       "    </tr>\n",
       "    <tr>\n",
       "      <td>1</td>\n",
       "      <td>3Rw9J03nW964TruD23gfaS</td>\n",
       "      <td>0.1560</td>\n",
       "      <td>0.674</td>\n",
       "      <td>1</td>\n",
       "      <td>0.0713</td>\n",
       "      <td>0</td>\n",
       "      <td>0.381</td>\n",
       "      <td>-2.258</td>\n",
       "      <td>0.04570</td>\n",
       "      <td>0.0706</td>\n",
       "      <td>0.975</td>\n",
       "      <td>191.974</td>\n",
       "    </tr>\n",
       "    <tr>\n",
       "      <td>2</td>\n",
       "      <td>64yajM6CxtLghmgB53VeXT</td>\n",
       "      <td>0.0581</td>\n",
       "      <td>0.695</td>\n",
       "      <td>1</td>\n",
       "      <td>0.4650</td>\n",
       "      <td>4</td>\n",
       "      <td>0.529</td>\n",
       "      <td>-1.538</td>\n",
       "      <td>0.00955</td>\n",
       "      <td>0.0000</td>\n",
       "      <td>0.931</td>\n",
       "      <td>92.466</td>\n",
       "    </tr>\n",
       "  </tbody>\n",
       "</table>\n",
       "</div>"
      ],
      "text/plain": [
       "                       id  speechiness  valence  mode  liveness  key  \\\n",
       "0  7wjsFW5cSAGy2T9fZbJ6be       0.0475    0.617     1    0.1360    9   \n",
       "1  3Rw9J03nW964TruD23gfaS       0.1560    0.674     1    0.0713    0   \n",
       "2  64yajM6CxtLghmgB53VeXT       0.0581    0.695     1    0.4650    4   \n",
       "\n",
       "   danceability  loudness  acousticness  instrumentalness  energy    tempo  \n",
       "0         0.496    -3.878       0.00213            0.2100   0.922   91.972  \n",
       "1         0.381    -2.258       0.04570            0.0706   0.975  191.974  \n",
       "2         0.529    -1.538       0.00955            0.0000   0.931   92.466  "
      ]
     },
     "execution_count": 5,
     "metadata": {},
     "output_type": "execute_result"
    }
   ],
   "source": [
    "features = session.get_favorite_songs(features = True)\n",
    "df_features = pd.DataFrame(features)\n",
    "\n",
    "print(df_features.shape)\n",
    "df_features.head(3)"
   ]
  },
  {
   "cell_type": "code",
   "execution_count": 25,
   "metadata": {},
   "outputs": [
    {
     "data": {
      "text/html": [
       "<div>\n",
       "<style scoped>\n",
       "    .dataframe tbody tr th:only-of-type {\n",
       "        vertical-align: middle;\n",
       "    }\n",
       "\n",
       "    .dataframe tbody tr th {\n",
       "        vertical-align: top;\n",
       "    }\n",
       "\n",
       "    .dataframe thead th {\n",
       "        text-align: right;\n",
       "    }\n",
       "</style>\n",
       "<table border=\"1\" class=\"dataframe\">\n",
       "  <thead>\n",
       "    <tr style=\"text-align: right;\">\n",
       "      <th></th>\n",
       "      <th>name</th>\n",
       "      <th>id</th>\n",
       "      <th>popularity</th>\n",
       "      <th>duration_ms</th>\n",
       "      <th>album</th>\n",
       "      <th>album_id</th>\n",
       "      <th>artist</th>\n",
       "      <th>artist_id</th>\n",
       "    </tr>\n",
       "  </thead>\n",
       "  <tbody>\n",
       "    <tr>\n",
       "      <td>1106</td>\n",
       "      <td>Rajada de Bundada</td>\n",
       "      <td>7AiTVrP8zxhEcMVtMC8WvE</td>\n",
       "      <td>20</td>\n",
       "      <td>206280</td>\n",
       "      <td>Rajada de Bundada</td>\n",
       "      <td>7oJlzkRdYoSroQcI0cT7W3</td>\n",
       "      <td>Luna</td>\n",
       "      <td>75zFePKf1dYkFtHYkB7uJy</td>\n",
       "    </tr>\n",
       "    <tr>\n",
       "      <td>1902</td>\n",
       "      <td>I Feel Love</td>\n",
       "      <td>29MOOOmMRPeWyPwKQFoF5t</td>\n",
       "      <td>70</td>\n",
       "      <td>254453</td>\n",
       "      <td>I Feel Love</td>\n",
       "      <td>2DmVNmERvg6j9jZQbelNKu</td>\n",
       "      <td>Sam Smith</td>\n",
       "      <td>2wY79sveU1sp5g7SokKOiI</td>\n",
       "    </tr>\n",
       "  </tbody>\n",
       "</table>\n",
       "</div>"
      ],
      "text/plain": [
       "                   name                      id  popularity  duration_ms  \\\n",
       "1106  Rajada de Bundada  7AiTVrP8zxhEcMVtMC8WvE          20       206280   \n",
       "1902        I Feel Love  29MOOOmMRPeWyPwKQFoF5t          70       254453   \n",
       "\n",
       "                  album                album_id     artist  \\\n",
       "1106  Rajada de Bundada  7oJlzkRdYoSroQcI0cT7W3       Luna   \n",
       "1902        I Feel Love  2DmVNmERvg6j9jZQbelNKu  Sam Smith   \n",
       "\n",
       "                   artist_id  \n",
       "1106  75zFePKf1dYkFtHYkB7uJy  \n",
       "1902  2wY79sveU1sp5g7SokKOiI  "
      ]
     },
     "execution_count": 25,
     "metadata": {},
     "output_type": "execute_result"
    }
   ],
   "source": [
    "df_songs.iloc[[1106,1902],:]"
   ]
  },
  {
   "cell_type": "markdown",
   "metadata": {},
   "source": [
    "- Joining the datasets"
   ]
  },
  {
   "cell_type": "code",
   "execution_count": 6,
   "metadata": {},
   "outputs": [
    {
     "name": "stdout",
     "output_type": "stream",
     "text": [
      "(10000, 19)\n"
     ]
    },
    {
     "data": {
      "text/html": [
       "<div>\n",
       "<style scoped>\n",
       "    .dataframe tbody tr th:only-of-type {\n",
       "        vertical-align: middle;\n",
       "    }\n",
       "\n",
       "    .dataframe tbody tr th {\n",
       "        vertical-align: top;\n",
       "    }\n",
       "\n",
       "    .dataframe thead th {\n",
       "        text-align: right;\n",
       "    }\n",
       "</style>\n",
       "<table border=\"1\" class=\"dataframe\">\n",
       "  <thead>\n",
       "    <tr style=\"text-align: right;\">\n",
       "      <th></th>\n",
       "      <th>name</th>\n",
       "      <th>album</th>\n",
       "      <th>album_id</th>\n",
       "      <th>artist</th>\n",
       "      <th>artist_id</th>\n",
       "      <th>id</th>\n",
       "      <th>popularity</th>\n",
       "      <th>duration_ms</th>\n",
       "      <th>speechiness</th>\n",
       "      <th>valence</th>\n",
       "      <th>mode</th>\n",
       "      <th>liveness</th>\n",
       "      <th>key</th>\n",
       "      <th>danceability</th>\n",
       "      <th>loudness</th>\n",
       "      <th>acousticness</th>\n",
       "      <th>instrumentalness</th>\n",
       "      <th>energy</th>\n",
       "      <th>tempo</th>\n",
       "    </tr>\n",
       "  </thead>\n",
       "  <tbody>\n",
       "    <tr>\n",
       "      <td>0</td>\n",
       "      <td>Lover, Leaver</td>\n",
       "      <td>Lover, Leaver</td>\n",
       "      <td>2pwQljRu5CDZrWWewU4Tdy</td>\n",
       "      <td>Greta Van Fleet</td>\n",
       "      <td>4NpFxQe2UvRCAjto3JqlSl</td>\n",
       "      <td>7wjsFW5cSAGy2T9fZbJ6be</td>\n",
       "      <td>10</td>\n",
       "      <td>215013</td>\n",
       "      <td>0.0475</td>\n",
       "      <td>0.617</td>\n",
       "      <td>1</td>\n",
       "      <td>0.1360</td>\n",
       "      <td>9</td>\n",
       "      <td>0.496</td>\n",
       "      <td>-3.878</td>\n",
       "      <td>0.00213</td>\n",
       "      <td>0.2100</td>\n",
       "      <td>0.922</td>\n",
       "      <td>91.972</td>\n",
       "    </tr>\n",
       "    <tr>\n",
       "      <td>1</td>\n",
       "      <td>When The Curtain Falls</td>\n",
       "      <td>When The Curtain Falls</td>\n",
       "      <td>6sZZUbFqCVf3NLXYBLzFNj</td>\n",
       "      <td>Greta Van Fleet</td>\n",
       "      <td>4NpFxQe2UvRCAjto3JqlSl</td>\n",
       "      <td>3Rw9J03nW964TruD23gfaS</td>\n",
       "      <td>10</td>\n",
       "      <td>221893</td>\n",
       "      <td>0.1560</td>\n",
       "      <td>0.674</td>\n",
       "      <td>1</td>\n",
       "      <td>0.0713</td>\n",
       "      <td>0</td>\n",
       "      <td>0.381</td>\n",
       "      <td>-2.258</td>\n",
       "      <td>0.04570</td>\n",
       "      <td>0.0706</td>\n",
       "      <td>0.975</td>\n",
       "      <td>191.974</td>\n",
       "    </tr>\n",
       "    <tr>\n",
       "      <td>2</td>\n",
       "      <td>インフェルノ</td>\n",
       "      <td>インフェルノ</td>\n",
       "      <td>137FjNv5TRNvbW6D17bQc1</td>\n",
       "      <td>Mrs. GREEN APPLE</td>\n",
       "      <td>4QvgGvpgzgyUOo8Yp8LDm9</td>\n",
       "      <td>64yajM6CxtLghmgB53VeXT</td>\n",
       "      <td>71</td>\n",
       "      <td>212546</td>\n",
       "      <td>0.0581</td>\n",
       "      <td>0.695</td>\n",
       "      <td>1</td>\n",
       "      <td>0.4650</td>\n",
       "      <td>4</td>\n",
       "      <td>0.529</td>\n",
       "      <td>-1.538</td>\n",
       "      <td>0.00955</td>\n",
       "      <td>0.0000</td>\n",
       "      <td>0.931</td>\n",
       "      <td>92.466</td>\n",
       "    </tr>\n",
       "  </tbody>\n",
       "</table>\n",
       "</div>"
      ],
      "text/plain": [
       "                     name                   album                album_id  \\\n",
       "0           Lover, Leaver           Lover, Leaver  2pwQljRu5CDZrWWewU4Tdy   \n",
       "1  When The Curtain Falls  When The Curtain Falls  6sZZUbFqCVf3NLXYBLzFNj   \n",
       "2                  インフェルノ                  インフェルノ  137FjNv5TRNvbW6D17bQc1   \n",
       "\n",
       "             artist               artist_id                      id  \\\n",
       "0   Greta Van Fleet  4NpFxQe2UvRCAjto3JqlSl  7wjsFW5cSAGy2T9fZbJ6be   \n",
       "1   Greta Van Fleet  4NpFxQe2UvRCAjto3JqlSl  3Rw9J03nW964TruD23gfaS   \n",
       "2  Mrs. GREEN APPLE  4QvgGvpgzgyUOo8Yp8LDm9  64yajM6CxtLghmgB53VeXT   \n",
       "\n",
       "   popularity  duration_ms  speechiness  valence  mode  liveness  key  \\\n",
       "0          10       215013       0.0475    0.617     1    0.1360    9   \n",
       "1          10       221893       0.1560    0.674     1    0.0713    0   \n",
       "2          71       212546       0.0581    0.695     1    0.4650    4   \n",
       "\n",
       "   danceability  loudness  acousticness  instrumentalness  energy    tempo  \n",
       "0         0.496    -3.878       0.00213            0.2100   0.922   91.972  \n",
       "1         0.381    -2.258       0.04570            0.0706   0.975  191.974  \n",
       "2         0.529    -1.538       0.00955            0.0000   0.931   92.466  "
      ]
     },
     "execution_count": 6,
     "metadata": {},
     "output_type": "execute_result"
    }
   ],
   "source": [
    "songs_features = df_songs.merge(df_features, how='inner', on='id')\n",
    "\n",
    "print(songs_features.shape)\n",
    "songs_features.head(3)"
   ]
  },
  {
   "cell_type": "markdown",
   "metadata": {},
   "source": [
    "- Checking data integrity"
   ]
  },
  {
   "cell_type": "code",
   "execution_count": 7,
   "metadata": {},
   "outputs": [
    {
     "data": {
      "text/plain": [
       "<matplotlib.axes._subplots.AxesSubplot at 0x2606c539348>"
      ]
     },
     "execution_count": 7,
     "metadata": {},
     "output_type": "execute_result"
    },
    {
     "data": {
      "image/png": "[encoded data removed]",
      "text/plain": [
       "<Figure size 1800x720 with 2 Axes>"
      ]
     },
     "metadata": {
      "needs_background": "light"
     },
     "output_type": "display_data"
    }
   ],
   "source": [
    "msno.matrix(songs_features)"
   ]
  },
  {
   "cell_type": "markdown",
   "metadata": {},
   "source": [
    "### Collecting tracks from the users playlists\n",
    "\n",
    "- Collecting tracks and features"
   ]
  },
  {
   "cell_type": "code",
   "execution_count": 8,
   "metadata": {},
   "outputs": [
    {
     "name": "stdout",
     "output_type": "stream",
     "text": [
      "Number of Playlists:  29\n"
     ]
    }
   ],
   "source": [
    "playlists_songs = session.get_user_playlists(user)\n",
    "playlists_features = session.get_user_playlists(user, features=True)\n",
    "\n",
    "print(\"Number of Playlists: \", len(playlists_songs))"
   ]
  },
  {
   "cell_type": "markdown",
   "metadata": {},
   "source": [
    "- Retriving only the songs from the dictionaries\n",
    "\n",
    "Songs"
   ]
  },
  {
   "cell_type": "code",
   "execution_count": 9,
   "metadata": {},
   "outputs": [
    {
     "name": "stdout",
     "output_type": "stream",
     "text": [
      "(14683, 8)\n"
     ]
    },
    {
     "data": {
      "text/html": [
       "<div>\n",
       "<style scoped>\n",
       "    .dataframe tbody tr th:only-of-type {\n",
       "        vertical-align: middle;\n",
       "    }\n",
       "\n",
       "    .dataframe tbody tr th {\n",
       "        vertical-align: top;\n",
       "    }\n",
       "\n",
       "    .dataframe thead th {\n",
       "        text-align: right;\n",
       "    }\n",
       "</style>\n",
       "<table border=\"1\" class=\"dataframe\">\n",
       "  <thead>\n",
       "    <tr style=\"text-align: right;\">\n",
       "      <th></th>\n",
       "      <th>name</th>\n",
       "      <th>album</th>\n",
       "      <th>album_id</th>\n",
       "      <th>artist</th>\n",
       "      <th>artist_id</th>\n",
       "      <th>id</th>\n",
       "      <th>popularity</th>\n",
       "      <th>duration_ms</th>\n",
       "    </tr>\n",
       "  </thead>\n",
       "  <tbody>\n",
       "    <tr>\n",
       "      <td>0</td>\n",
       "      <td>Nate's Theme 2.0</td>\n",
       "      <td>Uncharted 2: Among Thieves (Original Video Gam...</td>\n",
       "      <td>7AeuCduXts5efoVLam7dUk</td>\n",
       "      <td>Greg Edmonson</td>\n",
       "      <td>2O0YGVBPONB6lPJYxb0q3w</td>\n",
       "      <td>2xJCwA0WygA4INcY2tMQ5g</td>\n",
       "      <td>46.0</td>\n",
       "      <td>105515.0</td>\n",
       "    </tr>\n",
       "    <tr>\n",
       "      <td>1</td>\n",
       "      <td>Opening​~​Bombing Mission (Final Fantasy VII)</td>\n",
       "      <td>Distant Worlds: Music from Final Fantasy</td>\n",
       "      <td>04uEX0wzsnA5UcaEtxcbal</td>\n",
       "      <td>Nobuo Uematsu</td>\n",
       "      <td>3V79CTgRnsDdJSTqKitROv</td>\n",
       "      <td>0hEExwWtYKCAKdUXRCZ4JV</td>\n",
       "      <td>47.0</td>\n",
       "      <td>243293.0</td>\n",
       "    </tr>\n",
       "    <tr>\n",
       "      <td>2</td>\n",
       "      <td>Halo</td>\n",
       "      <td>Halo: Original Soundtrack</td>\n",
       "      <td>6GSXmRwERX2erR5xuLTajj</td>\n",
       "      <td>Martin O'Donnell</td>\n",
       "      <td>5oERdzrfb6kmNMzPNINZib</td>\n",
       "      <td>0htrx26DcVDcyXErXyJsTo</td>\n",
       "      <td>4.0</td>\n",
       "      <td>262160.0</td>\n",
       "    </tr>\n",
       "  </tbody>\n",
       "</table>\n",
       "</div>"
      ],
      "text/plain": [
       "                                            name  \\\n",
       "0                               Nate's Theme 2.0   \n",
       "1  Opening​~​Bombing Mission (Final Fantasy VII)   \n",
       "2                                           Halo   \n",
       "\n",
       "                                               album                album_id  \\\n",
       "0  Uncharted 2: Among Thieves (Original Video Gam...  7AeuCduXts5efoVLam7dUk   \n",
       "1           Distant Worlds: Music from Final Fantasy  04uEX0wzsnA5UcaEtxcbal   \n",
       "2                          Halo: Original Soundtrack  6GSXmRwERX2erR5xuLTajj   \n",
       "\n",
       "             artist               artist_id                      id  \\\n",
       "0     Greg Edmonson  2O0YGVBPONB6lPJYxb0q3w  2xJCwA0WygA4INcY2tMQ5g   \n",
       "1     Nobuo Uematsu  3V79CTgRnsDdJSTqKitROv  0hEExwWtYKCAKdUXRCZ4JV   \n",
       "2  Martin O'Donnell  5oERdzrfb6kmNMzPNINZib  0htrx26DcVDcyXErXyJsTo   \n",
       "\n",
       "   popularity  duration_ms  \n",
       "0        46.0     105515.0  \n",
       "1        47.0     243293.0  \n",
       "2         4.0     262160.0  "
      ]
     },
     "execution_count": 9,
     "metadata": {},
     "output_type": "execute_result"
    }
   ],
   "source": [
    "user_songs = [song for playlist, songs in playlists_songs for song in songs]\n",
    "df_user_songs = pd.DataFrame(user_songs).drop_duplicates(subset='id')\n",
    "\n",
    "print(df_user_songs.shape)\n",
    "df_user_songs.head(3)"
   ]
  },
  {
   "cell_type": "markdown",
   "metadata": {},
   "source": [
    "Features"
   ]
  },
  {
   "cell_type": "code",
   "execution_count": 11,
   "metadata": {},
   "outputs": [
    {
     "name": "stdout",
     "output_type": "stream",
     "text": [
      "(14676, 12)\n"
     ]
    },
    {
     "data": {
      "text/html": [
       "<div>\n",
       "<style scoped>\n",
       "    .dataframe tbody tr th:only-of-type {\n",
       "        vertical-align: middle;\n",
       "    }\n",
       "\n",
       "    .dataframe tbody tr th {\n",
       "        vertical-align: top;\n",
       "    }\n",
       "\n",
       "    .dataframe thead th {\n",
       "        text-align: right;\n",
       "    }\n",
       "</style>\n",
       "<table border=\"1\" class=\"dataframe\">\n",
       "  <thead>\n",
       "    <tr style=\"text-align: right;\">\n",
       "      <th></th>\n",
       "      <th>id</th>\n",
       "      <th>speechiness</th>\n",
       "      <th>valence</th>\n",
       "      <th>mode</th>\n",
       "      <th>liveness</th>\n",
       "      <th>key</th>\n",
       "      <th>danceability</th>\n",
       "      <th>loudness</th>\n",
       "      <th>acousticness</th>\n",
       "      <th>instrumentalness</th>\n",
       "      <th>energy</th>\n",
       "      <th>tempo</th>\n",
       "    </tr>\n",
       "  </thead>\n",
       "  <tbody>\n",
       "    <tr>\n",
       "      <td>0</td>\n",
       "      <td>2xJCwA0WygA4INcY2tMQ5g</td>\n",
       "      <td>0.0440</td>\n",
       "      <td>0.4020</td>\n",
       "      <td>1.0</td>\n",
       "      <td>0.1200</td>\n",
       "      <td>7.0</td>\n",
       "      <td>0.294</td>\n",
       "      <td>-14.639</td>\n",
       "      <td>0.245</td>\n",
       "      <td>0.927</td>\n",
       "      <td>0.395</td>\n",
       "      <td>127.025</td>\n",
       "    </tr>\n",
       "    <tr>\n",
       "      <td>1</td>\n",
       "      <td>0hEExwWtYKCAKdUXRCZ4JV</td>\n",
       "      <td>0.0512</td>\n",
       "      <td>0.2460</td>\n",
       "      <td>0.0</td>\n",
       "      <td>0.3160</td>\n",
       "      <td>9.0</td>\n",
       "      <td>0.158</td>\n",
       "      <td>-9.295</td>\n",
       "      <td>0.759</td>\n",
       "      <td>0.941</td>\n",
       "      <td>0.575</td>\n",
       "      <td>64.305</td>\n",
       "    </tr>\n",
       "    <tr>\n",
       "      <td>2</td>\n",
       "      <td>0htrx26DcVDcyXErXyJsTo</td>\n",
       "      <td>0.0444</td>\n",
       "      <td>0.0374</td>\n",
       "      <td>1.0</td>\n",
       "      <td>0.0976</td>\n",
       "      <td>0.0</td>\n",
       "      <td>0.312</td>\n",
       "      <td>-14.271</td>\n",
       "      <td>0.255</td>\n",
       "      <td>0.884</td>\n",
       "      <td>0.419</td>\n",
       "      <td>96.134</td>\n",
       "    </tr>\n",
       "  </tbody>\n",
       "</table>\n",
       "</div>"
      ],
      "text/plain": [
       "                       id  speechiness  valence  mode  liveness  key  \\\n",
       "0  2xJCwA0WygA4INcY2tMQ5g       0.0440   0.4020   1.0    0.1200  7.0   \n",
       "1  0hEExwWtYKCAKdUXRCZ4JV       0.0512   0.2460   0.0    0.3160  9.0   \n",
       "2  0htrx26DcVDcyXErXyJsTo       0.0444   0.0374   1.0    0.0976  0.0   \n",
       "\n",
       "   danceability  loudness  acousticness  instrumentalness  energy    tempo  \n",
       "0         0.294   -14.639         0.245             0.927   0.395  127.025  \n",
       "1         0.158    -9.295         0.759             0.941   0.575   64.305  \n",
       "2         0.312   -14.271         0.255             0.884   0.419   96.134  "
      ]
     },
     "execution_count": 11,
     "metadata": {},
     "output_type": "execute_result"
    }
   ],
   "source": [
    "user_features = [song for playlist, songs in playlists_features for song in songs]\n",
    "df_user_features = pd.DataFrame(user_features).drop_duplicates(subset='id')\n",
    "\n",
    "print(df_user_features.shape)\n",
    "df_user_features.head(3)"
   ]
  },
  {
   "cell_type": "markdown",
   "metadata": {},
   "source": [
    "- Joining the datasets from above"
   ]
  },
  {
   "cell_type": "code",
   "execution_count": 14,
   "metadata": {},
   "outputs": [
    {
     "name": "stdout",
     "output_type": "stream",
     "text": [
      "(14676, 19)\n"
     ]
    },
    {
     "data": {
      "text/html": [
       "<div>\n",
       "<style scoped>\n",
       "    .dataframe tbody tr th:only-of-type {\n",
       "        vertical-align: middle;\n",
       "    }\n",
       "\n",
       "    .dataframe tbody tr th {\n",
       "        vertical-align: top;\n",
       "    }\n",
       "\n",
       "    .dataframe thead th {\n",
       "        text-align: right;\n",
       "    }\n",
       "</style>\n",
       "<table border=\"1\" class=\"dataframe\">\n",
       "  <thead>\n",
       "    <tr style=\"text-align: right;\">\n",
       "      <th></th>\n",
       "      <th>name</th>\n",
       "      <th>album</th>\n",
       "      <th>album_id</th>\n",
       "      <th>artist</th>\n",
       "      <th>artist_id</th>\n",
       "      <th>id</th>\n",
       "      <th>popularity</th>\n",
       "      <th>duration_ms</th>\n",
       "      <th>speechiness</th>\n",
       "      <th>valence</th>\n",
       "      <th>mode</th>\n",
       "      <th>liveness</th>\n",
       "      <th>key</th>\n",
       "      <th>danceability</th>\n",
       "      <th>loudness</th>\n",
       "      <th>acousticness</th>\n",
       "      <th>instrumentalness</th>\n",
       "      <th>energy</th>\n",
       "      <th>tempo</th>\n",
       "    </tr>\n",
       "  </thead>\n",
       "  <tbody>\n",
       "    <tr>\n",
       "      <td>0</td>\n",
       "      <td>Nate's Theme 2.0</td>\n",
       "      <td>Uncharted 2: Among Thieves (Original Video Gam...</td>\n",
       "      <td>7AeuCduXts5efoVLam7dUk</td>\n",
       "      <td>Greg Edmonson</td>\n",
       "      <td>2O0YGVBPONB6lPJYxb0q3w</td>\n",
       "      <td>2xJCwA0WygA4INcY2tMQ5g</td>\n",
       "      <td>46.0</td>\n",
       "      <td>105515.0</td>\n",
       "      <td>0.0440</td>\n",
       "      <td>0.4020</td>\n",
       "      <td>1.0</td>\n",
       "      <td>0.1200</td>\n",
       "      <td>7.0</td>\n",
       "      <td>0.294</td>\n",
       "      <td>-14.639</td>\n",
       "      <td>0.245</td>\n",
       "      <td>0.927</td>\n",
       "      <td>0.395</td>\n",
       "      <td>127.025</td>\n",
       "    </tr>\n",
       "    <tr>\n",
       "      <td>1</td>\n",
       "      <td>Opening​~​Bombing Mission (Final Fantasy VII)</td>\n",
       "      <td>Distant Worlds: Music from Final Fantasy</td>\n",
       "      <td>04uEX0wzsnA5UcaEtxcbal</td>\n",
       "      <td>Nobuo Uematsu</td>\n",
       "      <td>3V79CTgRnsDdJSTqKitROv</td>\n",
       "      <td>0hEExwWtYKCAKdUXRCZ4JV</td>\n",
       "      <td>47.0</td>\n",
       "      <td>243293.0</td>\n",
       "      <td>0.0512</td>\n",
       "      <td>0.2460</td>\n",
       "      <td>0.0</td>\n",
       "      <td>0.3160</td>\n",
       "      <td>9.0</td>\n",
       "      <td>0.158</td>\n",
       "      <td>-9.295</td>\n",
       "      <td>0.759</td>\n",
       "      <td>0.941</td>\n",
       "      <td>0.575</td>\n",
       "      <td>64.305</td>\n",
       "    </tr>\n",
       "    <tr>\n",
       "      <td>2</td>\n",
       "      <td>Halo</td>\n",
       "      <td>Halo: Original Soundtrack</td>\n",
       "      <td>6GSXmRwERX2erR5xuLTajj</td>\n",
       "      <td>Martin O'Donnell</td>\n",
       "      <td>5oERdzrfb6kmNMzPNINZib</td>\n",
       "      <td>0htrx26DcVDcyXErXyJsTo</td>\n",
       "      <td>4.0</td>\n",
       "      <td>262160.0</td>\n",
       "      <td>0.0444</td>\n",
       "      <td>0.0374</td>\n",
       "      <td>1.0</td>\n",
       "      <td>0.0976</td>\n",
       "      <td>0.0</td>\n",
       "      <td>0.312</td>\n",
       "      <td>-14.271</td>\n",
       "      <td>0.255</td>\n",
       "      <td>0.884</td>\n",
       "      <td>0.419</td>\n",
       "      <td>96.134</td>\n",
       "    </tr>\n",
       "  </tbody>\n",
       "</table>\n",
       "</div>"
      ],
      "text/plain": [
       "                                            name  \\\n",
       "0                               Nate's Theme 2.0   \n",
       "1  Opening​~​Bombing Mission (Final Fantasy VII)   \n",
       "2                                           Halo   \n",
       "\n",
       "                                               album                album_id  \\\n",
       "0  Uncharted 2: Among Thieves (Original Video Gam...  7AeuCduXts5efoVLam7dUk   \n",
       "1           Distant Worlds: Music from Final Fantasy  04uEX0wzsnA5UcaEtxcbal   \n",
       "2                          Halo: Original Soundtrack  6GSXmRwERX2erR5xuLTajj   \n",
       "\n",
       "             artist               artist_id                      id  \\\n",
       "0     Greg Edmonson  2O0YGVBPONB6lPJYxb0q3w  2xJCwA0WygA4INcY2tMQ5g   \n",
       "1     Nobuo Uematsu  3V79CTgRnsDdJSTqKitROv  0hEExwWtYKCAKdUXRCZ4JV   \n",
       "2  Martin O'Donnell  5oERdzrfb6kmNMzPNINZib  0htrx26DcVDcyXErXyJsTo   \n",
       "\n",
       "   popularity  duration_ms  speechiness  valence  mode  liveness  key  \\\n",
       "0        46.0     105515.0       0.0440   0.4020   1.0    0.1200  7.0   \n",
       "1        47.0     243293.0       0.0512   0.2460   0.0    0.3160  9.0   \n",
       "2         4.0     262160.0       0.0444   0.0374   1.0    0.0976  0.0   \n",
       "\n",
       "   danceability  loudness  acousticness  instrumentalness  energy    tempo  \n",
       "0         0.294   -14.639         0.245             0.927   0.395  127.025  \n",
       "1         0.158    -9.295         0.759             0.941   0.575   64.305  \n",
       "2         0.312   -14.271         0.255             0.884   0.419   96.134  "
      ]
     },
     "execution_count": 14,
     "metadata": {},
     "output_type": "execute_result"
    }
   ],
   "source": [
    "user_songs_features = df_user_songs.merge(df_user_features, how='inner', on='id')\n",
    "\n",
    "print(user_songs_features.shape)\n",
    "user_songs_features.head(3)"
   ]
  },
  {
   "cell_type": "markdown",
   "metadata": {},
   "source": [
    "- Checking users data integrity"
   ]
  },
  {
   "cell_type": "code",
   "execution_count": 15,
   "metadata": {},
   "outputs": [
    {
     "data": {
      "text/plain": [
       "<matplotlib.axes._subplots.AxesSubplot at 0x2606fe3b2c8>"
      ]
     },
     "execution_count": 15,
     "metadata": {},
     "output_type": "execute_result"
    },
    {
     "data": {
      "image/png": "[encoded data removed]",
      "text/plain": [
       "<Figure size 1800x720 with 2 Axes>"
      ]
     },
     "metadata": {
      "needs_background": "light"
     },
     "output_type": "display_data"
    }
   ],
   "source": [
    "msno.matrix(user_songs_features)"
   ]
  },
  {
   "cell_type": "markdown",
   "metadata": {},
   "source": [
    "- Cleaning null values"
   ]
  },
  {
   "cell_type": "code",
   "execution_count": 19,
   "metadata": {},
   "outputs": [
    {
     "name": "stdout",
     "output_type": "stream",
     "text": [
      "<class 'pandas.core.frame.DataFrame'>\n",
      "Int64Index: 14675 entries, 0 to 15692\n",
      "Data columns (total 12 columns):\n",
      "id                  14675 non-null object\n",
      "speechiness         14675 non-null float64\n",
      "valence             14675 non-null float64\n",
      "mode                14675 non-null float64\n",
      "liveness            14675 non-null float64\n",
      "key                 14675 non-null float64\n",
      "danceability        14675 non-null float64\n",
      "loudness            14675 non-null float64\n",
      "acousticness        14675 non-null float64\n",
      "instrumentalness    14675 non-null float64\n",
      "energy              14675 non-null float64\n",
      "tempo               14675 non-null float64\n",
      "dtypes: float64(11), object(1)\n",
      "memory usage: 1.5+ MB\n"
     ]
    }
   ],
   "source": [
    "df_user_features.dropna(inplace=True)\n",
    "df_user_features.info()"
   ]
  },
  {
   "cell_type": "markdown",
   "metadata": {},
   "source": [
    "### Exporting to csv\n",
    "\n",
    "- Train dataset (clustering)"
   ]
  },
  {
   "cell_type": "code",
   "execution_count": 21,
   "metadata": {},
   "outputs": [],
   "source": [
    "songs_features.to_csv('datasets/songs_to_cluster.csv', index=False)"
   ]
  },
  {
   "cell_type": "markdown",
   "metadata": {},
   "source": [
    "- Users dataset"
   ]
  },
  {
   "cell_type": "code",
   "execution_count": 18,
   "metadata": {},
   "outputs": [],
   "source": [
    "user_songs_features.to_csv('datasets/user_songs/{}_songs.csv'.format(user), index=False)"
   ]
  },
  {
   "cell_type": "markdown",
   "metadata": {},
   "source": [
    "### Future works\n",
    "\n",
    "- Pass list of users to collect songs"
   ]
  }
 ],
 "metadata": {
  "kernelspec": {
   "display_name": "Python 3",
   "language": "python",
   "name": "python3"
  },
  "language_info": {
   "codemirror_mode": {
    "name": "ipython",
    "version": 3
   },
   "file_extension": ".py",
   "mimetype": "text/x-python",
   "name": "python",
   "nbconvert_exporter": "python",
   "pygments_lexer": "ipython3",
   "version": "3.7.4"
  }
 },
 "nbformat": 4,
 "nbformat_minor": 4
}
