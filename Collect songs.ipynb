{
 "cells": [
  {
   "cell_type": "markdown",
   "metadata": {},
   "source": [
    "### About Audio Features\n",
    "\n",
    "| Column   |      Value Type      |  Value Description |\n",
    "|----------|:--------------------:|-------------------:|\n",
    "| id | - | The Spotify ID for the track. |\n",
    "| name | string | Name of the track. |\n",
    "| artist | string | Artist who plays the track. |\n",
    "| artist_id | - | The Spotify ID for the artist. |\n",
    "| album | string | The album where the track is on. |\n",
    "| album_id | - | The Spotify ID for the album. | \n",
    "| popularity | int | The popularity of the track. The value will be between 0 and 100, with 100 being the most popular. The popularity of a track is a value between 0 and 100, with 100 being the most popular. The popularity is calculated by algorithm and is based, in the most part, on the total number of plays the track has had and how recent those plays are. Generally speaking, songs that are being played a lot now will have a higher popularity than songs that were played a lot in the past. Duplicate tracks (e.g. the same track from a single and an album) are rated independently. Artist and album popularity is derived mathematically from track popularity. Note that the popularity value may lag actual popularity by a few days: the value is not updated in real time.|\n",
    "| duration_ms | int | The duration of the track in milliseconds. |\n",
    "| key | int | The estimated overall key of the track. Integers map to pitches using standard Pitch Class notation . E.g. 0 = C, 1 = C♯/D♭, 2 = D, and so on. If no key was detected, the value is -1. |\n",
    "| mode | int | Mode indicates the modality (major or minor) of a track, the type of scale from which its melodic content is derived. Major is represented by 1 and minor is 0. |\n",
    "| acousticness | float | A confidence measure from 0.0 to 1.0 of whether the track is acoustic. 1.0 represents high confidence the track is acoustic. |\n",
    "| danceability | float | Danceability describes how suitable a track is for dancing based on a combination of musical elements including tempo, rhythm stability, beat strength, and overall regularity. A value of 0.0 is least danceable and 1.0 is most danceable. |\n",
    "| energy | float | Energy is a measure from 0.0 to 1.0 and represents a perceptual measure of intensity and activity. Typically, energetic tracks feel fast, loud, and noisy. For example, death metal has high energy, while a Bach prelude scores low on the scale. Perceptual features contributing to this attribute include dynamic range, perceived loudness, timbre, onset rate, and general entropy. |\n",
    "| instrumentalness | float | Predicts whether a track contains no vocals. “Ooh” and “aah” sounds are treated as instrumental in this context. Rap or spoken word tracks are clearly “vocal”. The closer the instrumentalness value is to 1.0, the greater likelihood the track contains no vocal content. Values above 0.5 are intended to represent instrumental tracks, but confidence is higher as the value approaches 1.0. |\n",
    "| liveness | float | Detects the presence of an audience in the recording. Higher liveness values represent an increased probability that the track was performed live. A value above 0.8 provides strong likelihood that the track is live. |\n",
    "| loudness | float | The overall loudness of a track in decibels (dB). Loudness values are averaged across the entire track and are useful for comparing relative loudness of tracks. Loudness is the quality of a sound that is the primary psychological correlate of physical strength (amplitude). Values typical range between -60 and 0 db. |\n",
    "| speechiness | float | Speechiness detects the presence of spoken words in a track. The more exclusively speech-like the recording (e.g. talk show, audio book, poetry), the closer to 1.0 the attribute value. Values above 0.66 describe tracks that are probably made entirely of spoken words. Values between 0.33 and 0.66 describe tracks that may contain both music and speech, either in sections or layered, including such cases as rap music. Values below 0.33 most likely represent music and other non-speech-like tracks. |\n",
    "| valence | float | \tA measure from 0.0 to 1.0 describing the musical positiveness conveyed by a track. Tracks with high valence sound more positive (e.g. happy, cheerful, euphoric), while tracks with low valence sound more negative (e.g. sad, depressed, angry). |\n",
    "| tempo | float | The overall estimated tempo of a track in beats per minute (BPM). In musical terminology, tempo is the speed or pace of a given piece and derives directly from the average beat duration. |\n"
   ]
  },
  {
   "cell_type": "markdown",
   "metadata": {},
   "source": [
    "### Imports"
   ]
  },
  {
   "cell_type": "code",
   "execution_count": 1,
   "metadata": {},
   "outputs": [],
   "source": [
    "from diversify.session import SpotifySession\n",
    "import pandas as pd\n",
    "import missingno as msno\n",
    "%matplotlib inline"
   ]
  },
  {
   "cell_type": "code",
   "execution_count": null,
   "metadata": {},
   "outputs": [],
   "source": [
    "def get_genres(artists_id, session):\n",
    "    response = spfy.artist(artists_id)\n",
    "    if len(response['genres']) == 0:\n",
    "      return []\n",
    "    return response['genres']"
   ]
  },
  {
   "cell_type": "markdown",
   "metadata": {},
   "source": [
    "### Users"
   ]
  },
  {
   "cell_type": "code",
   "execution_count": 2,
   "metadata": {},
   "outputs": [],
   "source": [
    "# Users to login\n",
    "#my_user = '12144777067' # my account\n",
    "my_user = 'rm2azb4jnd15soiqhl5qc9eya' # my other account\n",
    "\n",
    "# Users to collect songs\n",
    "#user = 'belzedu' # Edu\n",
    "#user = 'ilikemiojo' # Maurício\n",
    "#user = 'ebetcel' # Betcel\n",
    "#user = 'andreaskeete' # Bigod\n",
    "#user = 'vi_liraa' # Vini\n",
    "user = 'brttrexpeita' # brTT\n",
    "#user = '12152882067' # Élvis\n",
    "#user = '12144777067' # my account\n",
    "#user = 'rm2azb4jnd15soiqhl5qc9eya' # my other account"
   ]
  },
  {
   "cell_type": "markdown",
   "metadata": {},
   "source": [
    "### Collecting tracks for the train dataset"
   ]
  },
  {
   "cell_type": "code",
   "execution_count": 3,
   "metadata": {},
   "outputs": [
    {
     "name": "stdout",
     "output_type": "stream",
     "text": [
      "\n",
      "\n",
      "         User authentication requires interaction with your\n",
      "         web browser. Once you enter your credentials and\n",
      "         give authorization, you will be redirected to\n",
      "         a url.  Paste that url you were directed to to\n",
      "         complete the authorization.\n",
      "\n",
      "     \n",
      "Opened https://accounts.spotify.com/authorize?client_id=f4bd9bcb87724721ab5b0a9667f1ae52&response_type=code&redirect_uri=https%3A%2F%2Fedujtm.github.io%2Fdiversify%2Fredirect&scope=playlist-modify-private+user-library-read in your browser\n",
      "\n",
      "\n",
      "Enter the the code pattern you were given: AQDKtyxLY8kUCjD82W2INByc8Q1SZXgQ0bO5Ru3HA-k6JflsC0EnUhvIy9TKJ1MqmuSGTJ0QbX3fxbCvScNDB9s6j80FnBx4H-Q1xp8BsxcZ1GfpsFppf0QZFYLOpVCq-2bwLTVhb6lpNDWcKoS2V1inQQOsYMDu5R09XiA_8OKsJw789Tay1B12BZ3YBVtCrpv3YoAfrldTG7g8BPgoiR30iGYlamUQqmwUGfwa6vGNOmGKkn7d4tK2mvcxL3tqY3Bwsa0QspAFnZ6XpWVV\n",
      "\n",
      "\n"
     ]
    }
   ],
   "source": [
    "session = SpotifySession(my_user)"
   ]
  },
  {
   "cell_type": "markdown",
   "metadata": {},
   "source": [
    "- Collecting tracks"
   ]
  },
  {
   "cell_type": "code",
   "execution_count": 6,
   "metadata": {},
   "outputs": [
    {
     "name": "stdout",
     "output_type": "stream",
     "text": [
      "(6500, 8)\n"
     ]
    },
    {
     "data": {
      "text/html": [
       "<div>\n",
       "<style scoped>\n",
       "    .dataframe tbody tr th:only-of-type {\n",
       "        vertical-align: middle;\n",
       "    }\n",
       "\n",
       "    .dataframe tbody tr th {\n",
       "        vertical-align: top;\n",
       "    }\n",
       "\n",
       "    .dataframe thead th {\n",
       "        text-align: right;\n",
       "    }\n",
       "</style>\n",
       "<table border=\"1\" class=\"dataframe\">\n",
       "  <thead>\n",
       "    <tr style=\"text-align: right;\">\n",
       "      <th></th>\n",
       "      <th>album</th>\n",
       "      <th>album_id</th>\n",
       "      <th>artist</th>\n",
       "      <th>artist_id</th>\n",
       "      <th>duration_ms</th>\n",
       "      <th>id</th>\n",
       "      <th>name</th>\n",
       "      <th>popularity</th>\n",
       "    </tr>\n",
       "  </thead>\n",
       "  <tbody>\n",
       "    <tr>\n",
       "      <th>0</th>\n",
       "      <td>Made In Studio 2</td>\n",
       "      <td>1VE4gyyX0wEGJEnzZ4bvbM</td>\n",
       "      <td>Márcia Fellipe</td>\n",
       "      <td>3OxZ4asD88P1lJJmLcXz4K</td>\n",
       "      <td>137826</td>\n",
       "      <td>3mf4l3O9xn8JukaUETnZFt</td>\n",
       "      <td>Chá De Sofrimento</td>\n",
       "      <td>37</td>\n",
       "    </tr>\n",
       "    <tr>\n",
       "      <th>1</th>\n",
       "      <td>Made In Studio 2</td>\n",
       "      <td>1VE4gyyX0wEGJEnzZ4bvbM</td>\n",
       "      <td>Márcia Fellipe</td>\n",
       "      <td>3OxZ4asD88P1lJJmLcXz4K</td>\n",
       "      <td>145883</td>\n",
       "      <td>48cryfhSXQGrWyhnmXEOEg</td>\n",
       "      <td>Nota 1.000</td>\n",
       "      <td>37</td>\n",
       "    </tr>\n",
       "    <tr>\n",
       "      <th>2</th>\n",
       "      <td>Deixa</td>\n",
       "      <td>7wj45LWz6uIcyBd8iqdlZ5</td>\n",
       "      <td>Bruna Magalhães</td>\n",
       "      <td>108y6vREhgAIvgvm1Cq54p</td>\n",
       "      <td>207209</td>\n",
       "      <td>0m52ru9yO561lgoMHyclcC</td>\n",
       "      <td>Deixa</td>\n",
       "      <td>1</td>\n",
       "    </tr>\n",
       "  </tbody>\n",
       "</table>\n",
       "</div>"
      ],
      "text/plain": [
       "              album                album_id           artist  \\\n",
       "0  Made In Studio 2  1VE4gyyX0wEGJEnzZ4bvbM   Márcia Fellipe   \n",
       "1  Made In Studio 2  1VE4gyyX0wEGJEnzZ4bvbM   Márcia Fellipe   \n",
       "2             Deixa  7wj45LWz6uIcyBd8iqdlZ5  Bruna Magalhães   \n",
       "\n",
       "                artist_id  duration_ms                      id  \\\n",
       "0  3OxZ4asD88P1lJJmLcXz4K       137826  3mf4l3O9xn8JukaUETnZFt   \n",
       "1  3OxZ4asD88P1lJJmLcXz4K       145883  48cryfhSXQGrWyhnmXEOEg   \n",
       "2  108y6vREhgAIvgvm1Cq54p       207209  0m52ru9yO561lgoMHyclcC   \n",
       "\n",
       "                name  popularity  \n",
       "0  Chá De Sofrimento          37  \n",
       "1         Nota 1.000          37  \n",
       "2              Deixa           1  "
      ]
     },
     "execution_count": 6,
     "metadata": {},
     "output_type": "execute_result"
    }
   ],
   "source": [
    "songs = session.get_favorite_songs()\n",
    "df_songs = pd.DataFrame(songs)\n",
    "\n",
    "print(df_songs.shape)\n",
    "df_songs.head(3)"
   ]
  },
  {
   "cell_type": "markdown",
   "metadata": {},
   "source": [
    "- Collecting features for the tracks above"
   ]
  },
  {
   "cell_type": "code",
   "execution_count": 5,
   "metadata": {},
   "outputs": [
    {
     "name": "stdout",
     "output_type": "stream",
     "text": [
      "(6500, 12)\n"
     ]
    },
    {
     "data": {
      "text/html": [
       "<div>\n",
       "<style scoped>\n",
       "    .dataframe tbody tr th:only-of-type {\n",
       "        vertical-align: middle;\n",
       "    }\n",
       "\n",
       "    .dataframe tbody tr th {\n",
       "        vertical-align: top;\n",
       "    }\n",
       "\n",
       "    .dataframe thead th {\n",
       "        text-align: right;\n",
       "    }\n",
       "</style>\n",
       "<table border=\"1\" class=\"dataframe\">\n",
       "  <thead>\n",
       "    <tr style=\"text-align: right;\">\n",
       "      <th></th>\n",
       "      <th>acousticness</th>\n",
       "      <th>danceability</th>\n",
       "      <th>energy</th>\n",
       "      <th>id</th>\n",
       "      <th>instrumentalness</th>\n",
       "      <th>key</th>\n",
       "      <th>liveness</th>\n",
       "      <th>loudness</th>\n",
       "      <th>mode</th>\n",
       "      <th>speechiness</th>\n",
       "      <th>tempo</th>\n",
       "      <th>valence</th>\n",
       "    </tr>\n",
       "  </thead>\n",
       "  <tbody>\n",
       "    <tr>\n",
       "      <th>0</th>\n",
       "      <td>0.411</td>\n",
       "      <td>0.666</td>\n",
       "      <td>0.859</td>\n",
       "      <td>3mf4l3O9xn8JukaUETnZFt</td>\n",
       "      <td>0.000000</td>\n",
       "      <td>8</td>\n",
       "      <td>0.3140</td>\n",
       "      <td>-3.836</td>\n",
       "      <td>1</td>\n",
       "      <td>0.0304</td>\n",
       "      <td>156.990</td>\n",
       "      <td>0.933</td>\n",
       "    </tr>\n",
       "    <tr>\n",
       "      <th>1</th>\n",
       "      <td>0.564</td>\n",
       "      <td>0.707</td>\n",
       "      <td>0.851</td>\n",
       "      <td>48cryfhSXQGrWyhnmXEOEg</td>\n",
       "      <td>0.000094</td>\n",
       "      <td>7</td>\n",
       "      <td>0.3300</td>\n",
       "      <td>-5.008</td>\n",
       "      <td>0</td>\n",
       "      <td>0.0322</td>\n",
       "      <td>153.929</td>\n",
       "      <td>0.871</td>\n",
       "    </tr>\n",
       "    <tr>\n",
       "      <th>2</th>\n",
       "      <td>0.801</td>\n",
       "      <td>0.299</td>\n",
       "      <td>0.159</td>\n",
       "      <td>0m52ru9yO561lgoMHyclcC</td>\n",
       "      <td>0.000000</td>\n",
       "      <td>11</td>\n",
       "      <td>0.0611</td>\n",
       "      <td>-16.540</td>\n",
       "      <td>0</td>\n",
       "      <td>0.0357</td>\n",
       "      <td>183.227</td>\n",
       "      <td>0.180</td>\n",
       "    </tr>\n",
       "  </tbody>\n",
       "</table>\n",
       "</div>"
      ],
      "text/plain": [
       "   acousticness  danceability  energy                      id  \\\n",
       "0         0.411         0.666   0.859  3mf4l3O9xn8JukaUETnZFt   \n",
       "1         0.564         0.707   0.851  48cryfhSXQGrWyhnmXEOEg   \n",
       "2         0.801         0.299   0.159  0m52ru9yO561lgoMHyclcC   \n",
       "\n",
       "   instrumentalness  key  liveness  loudness  mode  speechiness    tempo  \\\n",
       "0          0.000000    8    0.3140    -3.836     1       0.0304  156.990   \n",
       "1          0.000094    7    0.3300    -5.008     0       0.0322  153.929   \n",
       "2          0.000000   11    0.0611   -16.540     0       0.0357  183.227   \n",
       "\n",
       "   valence  \n",
       "0    0.933  \n",
       "1    0.871  \n",
       "2    0.180  "
      ]
     },
     "execution_count": 5,
     "metadata": {},
     "output_type": "execute_result"
    }
   ],
   "source": [
    "features = session.get_favorite_songs(features = True)\n",
    "df_features = pd.DataFrame(features)\n",
    "\n",
    "print(df_features.shape)\n",
    "df_features.head(3)"
   ]
  },
  {
   "cell_type": "markdown",
   "metadata": {},
   "source": [
    "- Joining the datasets"
   ]
  },
  {
   "cell_type": "code",
   "execution_count": 31,
   "metadata": {},
   "outputs": [
    {
     "name": "stdout",
     "output_type": "stream",
     "text": [
      "(6500, 19)\n"
     ]
    },
    {
     "data": {
      "text/html": [
       "<div>\n",
       "<style scoped>\n",
       "    .dataframe tbody tr th:only-of-type {\n",
       "        vertical-align: middle;\n",
       "    }\n",
       "\n",
       "    .dataframe tbody tr th {\n",
       "        vertical-align: top;\n",
       "    }\n",
       "\n",
       "    .dataframe thead th {\n",
       "        text-align: right;\n",
       "    }\n",
       "</style>\n",
       "<table border=\"1\" class=\"dataframe\">\n",
       "  <thead>\n",
       "    <tr style=\"text-align: right;\">\n",
       "      <th></th>\n",
       "      <th>album</th>\n",
       "      <th>album_id</th>\n",
       "      <th>artist</th>\n",
       "      <th>artist_id</th>\n",
       "      <th>duration_ms</th>\n",
       "      <th>id</th>\n",
       "      <th>name</th>\n",
       "      <th>popularity</th>\n",
       "      <th>acousticness</th>\n",
       "      <th>danceability</th>\n",
       "      <th>energy</th>\n",
       "      <th>instrumentalness</th>\n",
       "      <th>key</th>\n",
       "      <th>liveness</th>\n",
       "      <th>loudness</th>\n",
       "      <th>mode</th>\n",
       "      <th>speechiness</th>\n",
       "      <th>tempo</th>\n",
       "      <th>valence</th>\n",
       "    </tr>\n",
       "  </thead>\n",
       "  <tbody>\n",
       "    <tr>\n",
       "      <th>0</th>\n",
       "      <td>Made In Studio 2</td>\n",
       "      <td>1VE4gyyX0wEGJEnzZ4bvbM</td>\n",
       "      <td>Márcia Fellipe</td>\n",
       "      <td>3OxZ4asD88P1lJJmLcXz4K</td>\n",
       "      <td>137826</td>\n",
       "      <td>3mf4l3O9xn8JukaUETnZFt</td>\n",
       "      <td>Chá De Sofrimento</td>\n",
       "      <td>37</td>\n",
       "      <td>0.411</td>\n",
       "      <td>0.666</td>\n",
       "      <td>0.859</td>\n",
       "      <td>0.000000</td>\n",
       "      <td>8</td>\n",
       "      <td>0.3140</td>\n",
       "      <td>-3.836</td>\n",
       "      <td>1</td>\n",
       "      <td>0.0304</td>\n",
       "      <td>156.990</td>\n",
       "      <td>0.933</td>\n",
       "    </tr>\n",
       "    <tr>\n",
       "      <th>1</th>\n",
       "      <td>Made In Studio 2</td>\n",
       "      <td>1VE4gyyX0wEGJEnzZ4bvbM</td>\n",
       "      <td>Márcia Fellipe</td>\n",
       "      <td>3OxZ4asD88P1lJJmLcXz4K</td>\n",
       "      <td>145883</td>\n",
       "      <td>48cryfhSXQGrWyhnmXEOEg</td>\n",
       "      <td>Nota 1.000</td>\n",
       "      <td>38</td>\n",
       "      <td>0.564</td>\n",
       "      <td>0.707</td>\n",
       "      <td>0.851</td>\n",
       "      <td>0.000094</td>\n",
       "      <td>7</td>\n",
       "      <td>0.3300</td>\n",
       "      <td>-5.008</td>\n",
       "      <td>0</td>\n",
       "      <td>0.0322</td>\n",
       "      <td>153.929</td>\n",
       "      <td>0.871</td>\n",
       "    </tr>\n",
       "    <tr>\n",
       "      <th>2</th>\n",
       "      <td>Deixa</td>\n",
       "      <td>7wj45LWz6uIcyBd8iqdlZ5</td>\n",
       "      <td>Bruna Magalhães</td>\n",
       "      <td>108y6vREhgAIvgvm1Cq54p</td>\n",
       "      <td>207209</td>\n",
       "      <td>0m52ru9yO561lgoMHyclcC</td>\n",
       "      <td>Deixa</td>\n",
       "      <td>0</td>\n",
       "      <td>0.801</td>\n",
       "      <td>0.299</td>\n",
       "      <td>0.159</td>\n",
       "      <td>0.000000</td>\n",
       "      <td>11</td>\n",
       "      <td>0.0611</td>\n",
       "      <td>-16.540</td>\n",
       "      <td>0</td>\n",
       "      <td>0.0357</td>\n",
       "      <td>183.227</td>\n",
       "      <td>0.180</td>\n",
       "    </tr>\n",
       "  </tbody>\n",
       "</table>\n",
       "</div>"
      ],
      "text/plain": [
       "              album                album_id           artist  \\\n",
       "0  Made In Studio 2  1VE4gyyX0wEGJEnzZ4bvbM   Márcia Fellipe   \n",
       "1  Made In Studio 2  1VE4gyyX0wEGJEnzZ4bvbM   Márcia Fellipe   \n",
       "2             Deixa  7wj45LWz6uIcyBd8iqdlZ5  Bruna Magalhães   \n",
       "\n",
       "                artist_id  duration_ms                      id  \\\n",
       "0  3OxZ4asD88P1lJJmLcXz4K       137826  3mf4l3O9xn8JukaUETnZFt   \n",
       "1  3OxZ4asD88P1lJJmLcXz4K       145883  48cryfhSXQGrWyhnmXEOEg   \n",
       "2  108y6vREhgAIvgvm1Cq54p       207209  0m52ru9yO561lgoMHyclcC   \n",
       "\n",
       "                name  popularity  acousticness  danceability  energy  \\\n",
       "0  Chá De Sofrimento          37         0.411         0.666   0.859   \n",
       "1         Nota 1.000          38         0.564         0.707   0.851   \n",
       "2              Deixa           0         0.801         0.299   0.159   \n",
       "\n",
       "   instrumentalness  key  liveness  loudness  mode  speechiness    tempo  \\\n",
       "0          0.000000    8    0.3140    -3.836     1       0.0304  156.990   \n",
       "1          0.000094    7    0.3300    -5.008     0       0.0322  153.929   \n",
       "2          0.000000   11    0.0611   -16.540     0       0.0357  183.227   \n",
       "\n",
       "   valence  \n",
       "0    0.933  \n",
       "1    0.871  \n",
       "2    0.180  "
      ]
     },
     "execution_count": 31,
     "metadata": {},
     "output_type": "execute_result"
    }
   ],
   "source": [
    "songs_features = df_songs.merge(df_features, how='inner', on='id')\n",
    "\n",
    "print(songs_features.shape)\n",
    "songs_features.head(3)"
   ]
  },
  {
   "cell_type": "markdown",
   "metadata": {},
   "source": [
    "- Checking data integrity"
   ]
  },
  {
   "cell_type": "code",
   "execution_count": 39,
   "metadata": {},
   "outputs": [
    {
     "data": {
      "text/plain": [
       "<matplotlib.axes._subplots.AxesSubplot at 0x1e9c1819470>"
      ]
     },
     "execution_count": 39,
     "metadata": {},
     "output_type": "execute_result"
    },
    {
     "data": {
      "image/png": "[encoded data removed]",
      "text/plain": [
       "<Figure size 1800x720 with 2 Axes>"
      ]
     },
     "metadata": {},
     "output_type": "display_data"
    }
   ],
   "source": [
    "msno.matrix(songs_features)"
   ]
  },
  {
   "cell_type": "markdown",
   "metadata": {},
   "source": [
    "### Collecting tracks from the users playlists\n",
    "\n",
    "- Collecting tracks and features"
   ]
  },
  {
   "cell_type": "code",
   "execution_count": 4,
   "metadata": {},
   "outputs": [
    {
     "name": "stdout",
     "output_type": "stream",
     "text": [
      "Songs\n"
     ]
    },
    {
     "data": {
      "text/plain": [
       "('canto',\n",
       " [{'name': 'Radioactive',\n",
       "   'id': '62yJjFtgkhUrXktIoSjgP2',\n",
       "   'popularity': 79,\n",
       "   'duration_ms': 186813,\n",
       "   'album': 'Night Visions',\n",
       "   'album_id': '6nxDQi0FeEwccEPJeNySoS',\n",
       "   'artist': 'Imagine Dragons',\n",
       "   'artist_id': '53XhwfbYqKCa1cC15pYq2q'},\n",
       "  {'name': 'I Kissed A Girl',\n",
       "   'id': '5gD1OfCiygqxjjOxiaEKUe',\n",
       "   'popularity': 46,\n",
       "   'duration_ms': 180946,\n",
       "   'album': 'I Kissed A Girl',\n",
       "   'album_id': '6puf6DIqPoNJGxpr3oCR5s',\n",
       "   'artist': 'Katy Perry',\n",
       "   'artist_id': '6jJ0s89eD6GaHleKKya26X'},\n",
       "  {'name': 'Roar',\n",
       "   'id': '6F5c58TMEs1byxUstkzVeM',\n",
       "   'popularity': 79,\n",
       "   'duration_ms': 223546,\n",
       "   'album': 'PRISM (Deluxe)',\n",
       "   'album_id': '5MQBzs5YlZlE28mD9yUItn',\n",
       "   'artist': 'Katy Perry',\n",
       "   'artist_id': '6jJ0s89eD6GaHleKKya26X'},\n",
       "  {'name': 'How Far I\\'ll Go - From \"Moana\"',\n",
       "   'id': '5EbX5xL3O2xT8FxCpYzgUO',\n",
       "   'popularity': 72,\n",
       "   'duration_ms': 175517,\n",
       "   'album': 'How Far I\\'ll Go (From \"Moana\")',\n",
       "   'album_id': '2ho9l951XwxpBFEEjubOUx',\n",
       "   'artist': 'Alessia Cara',\n",
       "   'artist_id': '2wUjUUtkb5lvLKcGKsKqsR'}])"
      ]
     },
     "metadata": {},
     "output_type": "display_data"
    },
    {
     "name": "stdout",
     "output_type": "stream",
     "text": [
      "Features\n"
     ]
    },
    {
     "data": {
      "text/plain": [
       "('canto',\n",
       " [{'id': '62yJjFtgkhUrXktIoSjgP2',\n",
       "   'speechiness': 0.0634,\n",
       "   'valence': 0.195,\n",
       "   'mode': 1,\n",
       "   'liveness': 0.671,\n",
       "   'key': 9,\n",
       "   'danceability': 0.457,\n",
       "   'loudness': -3.699,\n",
       "   'acousticness': 0.114,\n",
       "   'instrumentalness': 0.000101,\n",
       "   'energy': 0.793,\n",
       "   'tempo': 136.382},\n",
       "  {'id': '5gD1OfCiygqxjjOxiaEKUe',\n",
       "   'speechiness': 0.0932,\n",
       "   'valence': 0.757,\n",
       "   'mode': 0,\n",
       "   'liveness': 0.0714,\n",
       "   'key': 9,\n",
       "   'danceability': 0.681,\n",
       "   'loudness': -3.23,\n",
       "   'acousticness': 0.00218,\n",
       "   'instrumentalness': 0,\n",
       "   'energy': 0.753,\n",
       "   'tempo': 129.976},\n",
       "  {'id': '6F5c58TMEs1byxUstkzVeM',\n",
       "   'speechiness': 0.0418,\n",
       "   'valence': 0.455,\n",
       "   'mode': 0,\n",
       "   'liveness': 0.354,\n",
       "   'key': 7,\n",
       "   'danceability': 0.554,\n",
       "   'loudness': -4.821,\n",
       "   'acousticness': 0.00487,\n",
       "   'instrumentalness': 6.6e-06,\n",
       "   'energy': 0.772,\n",
       "   'tempo': 179.984},\n",
       "  {'id': '5EbX5xL3O2xT8FxCpYzgUO',\n",
       "   'speechiness': 0.354,\n",
       "   'valence': 0.147,\n",
       "   'mode': 1,\n",
       "   'liveness': 0.0673,\n",
       "   'key': 9,\n",
       "   'danceability': 0.315,\n",
       "   'loudness': -9.671,\n",
       "   'acousticness': 0.173,\n",
       "   'instrumentalness': 0.000242,\n",
       "   'energy': 0.563,\n",
       "   'tempo': 179.484}])"
      ]
     },
     "metadata": {},
     "output_type": "display_data"
    }
   ],
   "source": [
    "playlists_songs = session.get_user_playlists(user)\n",
    "playlists_features = session.get_user_playlists(user, features=True)\n",
    "\n",
    "print(\"Songs\")\n",
    "display(playlists_songs[0])\n",
    "\n",
    "print(\"Features\")\n",
    "display(playlists_features[0])"
   ]
  },
  {
   "cell_type": "markdown",
   "metadata": {},
   "source": [
    "- Retriving only the songs from the dictionaries\n",
    "\n",
    "Songs"
   ]
  },
  {
   "cell_type": "code",
   "execution_count": 8,
   "metadata": {},
   "outputs": [
    {
     "name": "stdout",
     "output_type": "stream",
     "text": [
      "(442, 8)\n"
     ]
    },
    {
     "data": {
      "text/html": [
       "<div>\n",
       "<style scoped>\n",
       "    .dataframe tbody tr th:only-of-type {\n",
       "        vertical-align: middle;\n",
       "    }\n",
       "\n",
       "    .dataframe tbody tr th {\n",
       "        vertical-align: top;\n",
       "    }\n",
       "\n",
       "    .dataframe thead th {\n",
       "        text-align: right;\n",
       "    }\n",
       "</style>\n",
       "<table border=\"1\" class=\"dataframe\">\n",
       "  <thead>\n",
       "    <tr style=\"text-align: right;\">\n",
       "      <th></th>\n",
       "      <th>album</th>\n",
       "      <th>album_id</th>\n",
       "      <th>artist</th>\n",
       "      <th>artist_id</th>\n",
       "      <th>duration_ms</th>\n",
       "      <th>id</th>\n",
       "      <th>name</th>\n",
       "      <th>popularity</th>\n",
       "    </tr>\n",
       "  </thead>\n",
       "  <tbody>\n",
       "    <tr>\n",
       "      <th>0</th>\n",
       "      <td>Night Visions</td>\n",
       "      <td>6nxDQi0FeEwccEPJeNySoS</td>\n",
       "      <td>Imagine Dragons</td>\n",
       "      <td>53XhwfbYqKCa1cC15pYq2q</td>\n",
       "      <td>186813</td>\n",
       "      <td>62yJjFtgkhUrXktIoSjgP2</td>\n",
       "      <td>Radioactive</td>\n",
       "      <td>79</td>\n",
       "    </tr>\n",
       "    <tr>\n",
       "      <th>1</th>\n",
       "      <td>I Kissed A Girl</td>\n",
       "      <td>6puf6DIqPoNJGxpr3oCR5s</td>\n",
       "      <td>Katy Perry</td>\n",
       "      <td>6jJ0s89eD6GaHleKKya26X</td>\n",
       "      <td>180946</td>\n",
       "      <td>5gD1OfCiygqxjjOxiaEKUe</td>\n",
       "      <td>I Kissed A Girl</td>\n",
       "      <td>46</td>\n",
       "    </tr>\n",
       "    <tr>\n",
       "      <th>2</th>\n",
       "      <td>PRISM (Deluxe)</td>\n",
       "      <td>5MQBzs5YlZlE28mD9yUItn</td>\n",
       "      <td>Katy Perry</td>\n",
       "      <td>6jJ0s89eD6GaHleKKya26X</td>\n",
       "      <td>223546</td>\n",
       "      <td>6F5c58TMEs1byxUstkzVeM</td>\n",
       "      <td>Roar</td>\n",
       "      <td>79</td>\n",
       "    </tr>\n",
       "  </tbody>\n",
       "</table>\n",
       "</div>"
      ],
      "text/plain": [
       "             album                album_id           artist  \\\n",
       "0    Night Visions  6nxDQi0FeEwccEPJeNySoS  Imagine Dragons   \n",
       "1  I Kissed A Girl  6puf6DIqPoNJGxpr3oCR5s       Katy Perry   \n",
       "2   PRISM (Deluxe)  5MQBzs5YlZlE28mD9yUItn       Katy Perry   \n",
       "\n",
       "                artist_id  duration_ms                      id  \\\n",
       "0  53XhwfbYqKCa1cC15pYq2q       186813  62yJjFtgkhUrXktIoSjgP2   \n",
       "1  6jJ0s89eD6GaHleKKya26X       180946  5gD1OfCiygqxjjOxiaEKUe   \n",
       "2  6jJ0s89eD6GaHleKKya26X       223546  6F5c58TMEs1byxUstkzVeM   \n",
       "\n",
       "              name  popularity  \n",
       "0      Radioactive          79  \n",
       "1  I Kissed A Girl          46  \n",
       "2             Roar          79  "
      ]
     },
     "execution_count": 8,
     "metadata": {},
     "output_type": "execute_result"
    }
   ],
   "source": [
    "user_songs = [song for playlist, songs in playlists_songs for song in songs]\n",
    "df_user_songs = pd.DataFrame(user_songs).drop_duplicates(subset='id')\n",
    "\n",
    "print(df_user_songs.shape)\n",
    "df_user_songs.head(3)"
   ]
  },
  {
   "cell_type": "markdown",
   "metadata": {},
   "source": [
    "Features"
   ]
  },
  {
   "cell_type": "code",
   "execution_count": 25,
   "metadata": {},
   "outputs": [
    {
     "name": "stdout",
     "output_type": "stream",
     "text": [
      "(442, 12)\n"
     ]
    },
    {
     "data": {
      "text/html": [
       "<div>\n",
       "<style scoped>\n",
       "    .dataframe tbody tr th:only-of-type {\n",
       "        vertical-align: middle;\n",
       "    }\n",
       "\n",
       "    .dataframe tbody tr th {\n",
       "        vertical-align: top;\n",
       "    }\n",
       "\n",
       "    .dataframe thead th {\n",
       "        text-align: right;\n",
       "    }\n",
       "</style>\n",
       "<table border=\"1\" class=\"dataframe\">\n",
       "  <thead>\n",
       "    <tr style=\"text-align: right;\">\n",
       "      <th></th>\n",
       "      <th>id</th>\n",
       "      <th>speechiness</th>\n",
       "      <th>valence</th>\n",
       "      <th>mode</th>\n",
       "      <th>liveness</th>\n",
       "      <th>key</th>\n",
       "      <th>danceability</th>\n",
       "      <th>loudness</th>\n",
       "      <th>acousticness</th>\n",
       "      <th>instrumentalness</th>\n",
       "      <th>energy</th>\n",
       "      <th>tempo</th>\n",
       "    </tr>\n",
       "  </thead>\n",
       "  <tbody>\n",
       "    <tr>\n",
       "      <td>0</td>\n",
       "      <td>62yJjFtgkhUrXktIoSjgP2</td>\n",
       "      <td>0.0634</td>\n",
       "      <td>0.195</td>\n",
       "      <td>1</td>\n",
       "      <td>0.6710</td>\n",
       "      <td>9</td>\n",
       "      <td>0.457</td>\n",
       "      <td>-3.699</td>\n",
       "      <td>0.11400</td>\n",
       "      <td>0.000101</td>\n",
       "      <td>0.793</td>\n",
       "      <td>136.382</td>\n",
       "    </tr>\n",
       "    <tr>\n",
       "      <td>1</td>\n",
       "      <td>5gD1OfCiygqxjjOxiaEKUe</td>\n",
       "      <td>0.0932</td>\n",
       "      <td>0.757</td>\n",
       "      <td>0</td>\n",
       "      <td>0.0714</td>\n",
       "      <td>9</td>\n",
       "      <td>0.681</td>\n",
       "      <td>-3.230</td>\n",
       "      <td>0.00218</td>\n",
       "      <td>0.000000</td>\n",
       "      <td>0.753</td>\n",
       "      <td>129.976</td>\n",
       "    </tr>\n",
       "    <tr>\n",
       "      <td>2</td>\n",
       "      <td>6F5c58TMEs1byxUstkzVeM</td>\n",
       "      <td>0.0418</td>\n",
       "      <td>0.455</td>\n",
       "      <td>0</td>\n",
       "      <td>0.3540</td>\n",
       "      <td>7</td>\n",
       "      <td>0.554</td>\n",
       "      <td>-4.821</td>\n",
       "      <td>0.00487</td>\n",
       "      <td>0.000007</td>\n",
       "      <td>0.772</td>\n",
       "      <td>179.984</td>\n",
       "    </tr>\n",
       "  </tbody>\n",
       "</table>\n",
       "</div>"
      ],
      "text/plain": [
       "                       id  speechiness  valence  mode  liveness  key  \\\n",
       "0  62yJjFtgkhUrXktIoSjgP2       0.0634    0.195     1    0.6710    9   \n",
       "1  5gD1OfCiygqxjjOxiaEKUe       0.0932    0.757     0    0.0714    9   \n",
       "2  6F5c58TMEs1byxUstkzVeM       0.0418    0.455     0    0.3540    7   \n",
       "\n",
       "   danceability  loudness  acousticness  instrumentalness  energy    tempo  \n",
       "0         0.457    -3.699       0.11400          0.000101   0.793  136.382  \n",
       "1         0.681    -3.230       0.00218          0.000000   0.753  129.976  \n",
       "2         0.554    -4.821       0.00487          0.000007   0.772  179.984  "
      ]
     },
     "execution_count": 25,
     "metadata": {},
     "output_type": "execute_result"
    }
   ],
   "source": [
    "user_features = [song for playlist, songs in playlists_features for song in songs]\n",
    "df_user_features = pd.DataFrame(user_features).drop_duplicates(subset='id')\n",
    "\n",
    "print(df_user_features.shape)\n",
    "df_user_features.head(3)"
   ]
  },
  {
   "cell_type": "markdown",
   "metadata": {},
   "source": [
    "- Joining the datasets from above"
   ]
  },
  {
   "cell_type": "code",
   "execution_count": 26,
   "metadata": {},
   "outputs": [
    {
     "name": "stdout",
     "output_type": "stream",
     "text": [
      "(442, 19)\n"
     ]
    },
    {
     "data": {
      "text/html": [
       "<div>\n",
       "<style scoped>\n",
       "    .dataframe tbody tr th:only-of-type {\n",
       "        vertical-align: middle;\n",
       "    }\n",
       "\n",
       "    .dataframe tbody tr th {\n",
       "        vertical-align: top;\n",
       "    }\n",
       "\n",
       "    .dataframe thead th {\n",
       "        text-align: right;\n",
       "    }\n",
       "</style>\n",
       "<table border=\"1\" class=\"dataframe\">\n",
       "  <thead>\n",
       "    <tr style=\"text-align: right;\">\n",
       "      <th></th>\n",
       "      <th>name</th>\n",
       "      <th>id</th>\n",
       "      <th>popularity</th>\n",
       "      <th>duration_ms</th>\n",
       "      <th>album</th>\n",
       "      <th>album_id</th>\n",
       "      <th>artist</th>\n",
       "      <th>artist_id</th>\n",
       "      <th>speechiness</th>\n",
       "      <th>valence</th>\n",
       "      <th>mode</th>\n",
       "      <th>liveness</th>\n",
       "      <th>key</th>\n",
       "      <th>danceability</th>\n",
       "      <th>loudness</th>\n",
       "      <th>acousticness</th>\n",
       "      <th>instrumentalness</th>\n",
       "      <th>energy</th>\n",
       "      <th>tempo</th>\n",
       "    </tr>\n",
       "  </thead>\n",
       "  <tbody>\n",
       "    <tr>\n",
       "      <td>0</td>\n",
       "      <td>Radioactive</td>\n",
       "      <td>62yJjFtgkhUrXktIoSjgP2</td>\n",
       "      <td>79</td>\n",
       "      <td>186813</td>\n",
       "      <td>Night Visions</td>\n",
       "      <td>6nxDQi0FeEwccEPJeNySoS</td>\n",
       "      <td>Imagine Dragons</td>\n",
       "      <td>53XhwfbYqKCa1cC15pYq2q</td>\n",
       "      <td>0.0634</td>\n",
       "      <td>0.195</td>\n",
       "      <td>1</td>\n",
       "      <td>0.6710</td>\n",
       "      <td>9</td>\n",
       "      <td>0.457</td>\n",
       "      <td>-3.699</td>\n",
       "      <td>0.11400</td>\n",
       "      <td>0.000101</td>\n",
       "      <td>0.793</td>\n",
       "      <td>136.382</td>\n",
       "    </tr>\n",
       "    <tr>\n",
       "      <td>1</td>\n",
       "      <td>I Kissed A Girl</td>\n",
       "      <td>5gD1OfCiygqxjjOxiaEKUe</td>\n",
       "      <td>46</td>\n",
       "      <td>180946</td>\n",
       "      <td>I Kissed A Girl</td>\n",
       "      <td>6puf6DIqPoNJGxpr3oCR5s</td>\n",
       "      <td>Katy Perry</td>\n",
       "      <td>6jJ0s89eD6GaHleKKya26X</td>\n",
       "      <td>0.0932</td>\n",
       "      <td>0.757</td>\n",
       "      <td>0</td>\n",
       "      <td>0.0714</td>\n",
       "      <td>9</td>\n",
       "      <td>0.681</td>\n",
       "      <td>-3.230</td>\n",
       "      <td>0.00218</td>\n",
       "      <td>0.000000</td>\n",
       "      <td>0.753</td>\n",
       "      <td>129.976</td>\n",
       "    </tr>\n",
       "    <tr>\n",
       "      <td>2</td>\n",
       "      <td>Roar</td>\n",
       "      <td>6F5c58TMEs1byxUstkzVeM</td>\n",
       "      <td>79</td>\n",
       "      <td>223546</td>\n",
       "      <td>PRISM (Deluxe)</td>\n",
       "      <td>5MQBzs5YlZlE28mD9yUItn</td>\n",
       "      <td>Katy Perry</td>\n",
       "      <td>6jJ0s89eD6GaHleKKya26X</td>\n",
       "      <td>0.0418</td>\n",
       "      <td>0.455</td>\n",
       "      <td>0</td>\n",
       "      <td>0.3540</td>\n",
       "      <td>7</td>\n",
       "      <td>0.554</td>\n",
       "      <td>-4.821</td>\n",
       "      <td>0.00487</td>\n",
       "      <td>0.000007</td>\n",
       "      <td>0.772</td>\n",
       "      <td>179.984</td>\n",
       "    </tr>\n",
       "  </tbody>\n",
       "</table>\n",
       "</div>"
      ],
      "text/plain": [
       "              name                      id  popularity  duration_ms  \\\n",
       "0      Radioactive  62yJjFtgkhUrXktIoSjgP2          79       186813   \n",
       "1  I Kissed A Girl  5gD1OfCiygqxjjOxiaEKUe          46       180946   \n",
       "2             Roar  6F5c58TMEs1byxUstkzVeM          79       223546   \n",
       "\n",
       "             album                album_id           artist  \\\n",
       "0    Night Visions  6nxDQi0FeEwccEPJeNySoS  Imagine Dragons   \n",
       "1  I Kissed A Girl  6puf6DIqPoNJGxpr3oCR5s       Katy Perry   \n",
       "2   PRISM (Deluxe)  5MQBzs5YlZlE28mD9yUItn       Katy Perry   \n",
       "\n",
       "                artist_id  speechiness  valence  mode  liveness  key  \\\n",
       "0  53XhwfbYqKCa1cC15pYq2q       0.0634    0.195     1    0.6710    9   \n",
       "1  6jJ0s89eD6GaHleKKya26X       0.0932    0.757     0    0.0714    9   \n",
       "2  6jJ0s89eD6GaHleKKya26X       0.0418    0.455     0    0.3540    7   \n",
       "\n",
       "   danceability  loudness  acousticness  instrumentalness  energy    tempo  \n",
       "0         0.457    -3.699       0.11400          0.000101   0.793  136.382  \n",
       "1         0.681    -3.230       0.00218          0.000000   0.753  129.976  \n",
       "2         0.554    -4.821       0.00487          0.000007   0.772  179.984  "
      ]
     },
     "execution_count": 26,
     "metadata": {},
     "output_type": "execute_result"
    }
   ],
   "source": [
    "user_songs_features = df_user_songs.merge(df_user_features, how='inner', on='id')\n",
    "\n",
    "print(user_songs_features.shape)\n",
    "user_songs_features.head(3)"
   ]
  },
  {
   "cell_type": "markdown",
   "metadata": {},
   "source": [
    "- Checking users data integrity"
   ]
  },
  {
   "cell_type": "code",
   "execution_count": 27,
   "metadata": {},
   "outputs": [
    {
     "data": {
      "text/plain": [
       "<matplotlib.axes._subplots.AxesSubplot at 0x1feb18f67c8>"
      ]
     },
     "execution_count": 27,
     "metadata": {},
     "output_type": "execute_result"
    },
    {
     "data": {
      "image/png": "[encoded data removed]",
      "text/plain": [
       "<Figure size 1800x720 with 2 Axes>"
      ]
     },
     "metadata": {
      "needs_background": "light"
     },
     "output_type": "display_data"
    }
   ],
   "source": [
    "msno.matrix(user_songs_features)"
   ]
  },
  {
   "cell_type": "markdown",
   "metadata": {},
   "source": [
    "### Exporting to csv\n",
    "\n",
    "- Train dataset (clustering)"
   ]
  },
  {
   "cell_type": "code",
   "execution_count": 9,
   "metadata": {},
   "outputs": [],
   "source": [
    "songs_features.to_csv('datasets/songs_to_cluster.csv', index=False)"
   ]
  },
  {
   "cell_type": "markdown",
   "metadata": {},
   "source": [
    "- Users dataset"
   ]
  },
  {
   "cell_type": "code",
   "execution_count": 28,
   "metadata": {},
   "outputs": [],
   "source": [
    "user_songs_features.to_csv('datasets/user_songs/{}_songs.csv'.format(user), index=False)"
   ]
  },
  {
   "cell_type": "markdown",
   "metadata": {},
   "source": [
    "### Future works\n",
    "\n",
    "- Pass list of users to collect songs"
   ]
  }
 ],
 "metadata": {
  "kernelspec": {
   "display_name": "Python 3",
   "language": "python",
   "name": "python3"
  },
  "language_info": {
   "codemirror_mode": {
    "name": "ipython",
    "version": 3
   },
   "file_extension": ".py",
   "mimetype": "text/x-python",
   "name": "python",
   "nbconvert_exporter": "python",
   "pygments_lexer": "ipython3",
   "version": "3.7.3"
  }
 },
 "nbformat": 4,
 "nbformat_minor": 2
}
