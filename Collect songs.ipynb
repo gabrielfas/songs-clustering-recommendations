{
 "cells": [
  {
   "cell_type": "markdown",
   "metadata": {},
   "source": [
    "### About Audio Features\n",
    "\n",
    "| Column   |      Value Type      |  Value Description |\n",
    "|:----------|:--------------------|:-------------------|\n",
    "| id | - | The Spotify ID for the track. |\n",
    "| name | string | Name of the track. |\n",
    "| artist | string | Artist who plays the track. |\n",
    "| artist_id | - | The Spotify ID for the artist. |\n",
    "| album | string | The album where the track is on. |\n",
    "| album_id | - | The Spotify ID for the album. | \n",
    "| popularity | int | The popularity of the track. The value will be between 0 and 100, with 100 being the most popular. The popularity of a track is a value between 0 and 100, with 100 being the most popular. The popularity is calculated by algorithm and is based, in the most part, on the total number of plays the track has had and how recent those plays are. Generally speaking, songs that are being played a lot now will have a higher popularity than songs that were played a lot in the past. Duplicate tracks (e.g. the same track from a single and an album) are rated independently. Artist and album popularity is derived mathematically from track popularity. Note that the popularity value may lag actual popularity by a few days: the value is not updated in real time.|\n",
    "| duration_ms | int | The duration of the track in milliseconds. |\n",
    "| key | int | The estimated overall key of the track. Integers map to pitches using standard Pitch Class notation . E.g. 0 = C, 1 = C♯/D♭, 2 = D, and so on. If no key was detected, the value is -1. |\n",
    "| mode | int | Mode indicates the modality (major or minor) of a track, the type of scale from which its melodic content is derived. Major is represented by 1 and minor is 0. |\n",
    "| acousticness | float | A confidence measure from 0.0 to 1.0 of whether the track is acoustic. 1.0 represents high confidence the track is acoustic. |\n",
    "| danceability | float | Danceability describes how suitable a track is for dancing based on a combination of musical elements including tempo, rhythm stability, beat strength, and overall regularity. A value of 0.0 is least danceable and 1.0 is most danceable. |\n",
    "| energy | float | Energy is a measure from 0.0 to 1.0 and represents a perceptual measure of intensity and activity. Typically, energetic tracks feel fast, loud, and noisy. For example, death metal has high energy, while a Bach prelude scores low on the scale. Perceptual features contributing to this attribute include dynamic range, perceived loudness, timbre, onset rate, and general entropy. |\n",
    "| instrumentalness | float | Predicts whether a track contains no vocals. “Ooh” and “aah” sounds are treated as instrumental in this context. Rap or spoken word tracks are clearly “vocal”. The closer the instrumentalness value is to 1.0, the greater likelihood the track contains no vocal content. Values above 0.5 are intended to represent instrumental tracks, but confidence is higher as the value approaches 1.0. |\n",
    "| liveness | float | Detects the presence of an audience in the recording. Higher liveness values represent an increased probability that the track was performed live. A value above 0.8 provides strong likelihood that the track is live. |\n",
    "| loudness | float | The overall loudness of a track in decibels (dB). Loudness values are averaged across the entire track and are useful for comparing relative loudness of tracks. Loudness is the quality of a sound that is the primary psychological correlate of physical strength (amplitude). Values typical range between -60 and 0 db. |\n",
    "| speechiness | float | Speechiness detects the presence of spoken words in a track. The more exclusively speech-like the recording (e.g. talk show, audio book, poetry), the closer to 1.0 the attribute value. Values above 0.66 describe tracks that are probably made entirely of spoken words. Values between 0.33 and 0.66 describe tracks that may contain both music and speech, either in sections or layered, including such cases as rap music. Values below 0.33 most likely represent music and other non-speech-like tracks. |\n",
    "| valence | float | \tA measure from 0.0 to 1.0 describing the musical positiveness conveyed by a track. Tracks with high valence sound more positive (e.g. happy, cheerful, euphoric), while tracks with low valence sound more negative (e.g. sad, depressed, angry). |\n",
    "| tempo | float | The overall estimated tempo of a track in beats per minute (BPM). In musical terminology, tempo is the speed or pace of a given piece and derives directly from the average beat duration. |\n"
   ]
  },
  {
   "cell_type": "markdown",
   "metadata": {},
   "source": [
    "### Imports"
   ]
  },
  {
   "cell_type": "code",
   "execution_count": null,
   "metadata": {},
   "outputs": [],
   "source": [
    "!pip install spotipy"
   ]
  },
  {
   "cell_type": "code",
   "execution_count": null,
   "metadata": {},
   "outputs": [],
   "source": [
    "pip install python-dotenv"
   ]
  },
  {
   "cell_type": "code",
   "execution_count": 1,
   "metadata": {},
   "outputs": [],
   "source": [
    "from diversify.session import SpotifySession\n",
    "import pandas as pd\n",
    "import missingno as msno\n",
    "\n",
    "%matplotlib inline"
   ]
  },
  {
   "cell_type": "code",
   "execution_count": null,
   "metadata": {},
   "outputs": [],
   "source": [
    "def get_genres(artists_id, session):\n",
    "    response = spfy.artist(artists_id)\n",
    "    if len(response['genres']) == 0:\n",
    "      return []\n",
    "    return response['genres']"
   ]
  },
  {
   "cell_type": "markdown",
   "metadata": {},
   "source": [
    "### Users"
   ]
  },
  {
   "cell_type": "code",
   "execution_count": 2,
   "metadata": {},
   "outputs": [],
   "source": [
    "# Users to login\n",
    "#my_user = '12144777067' # my account\n",
    "my_user = 'rm2azb4jnd15soiqhl5qc9eya' # my other account\n",
    "\n",
    "# Users to collect songs\n",
    "#user = 'belzedu' # Edu\n",
    "#user = 'ilikemiojo' # Maurício\n",
    "#user = 'ebetcel' # Betcel\n",
    "#user = 'andreaskeete' # Bigod\n",
    "#user = 'vi_liraa' # Vini\n",
    "#user = 'luizbarros6' # Dudinha\n",
    "#user = 'diegocostta95' # Diego\n",
    "#user = 'brttrexpeita' # brTT\n",
    "user = '12152882067' # Élvis\n",
    "#user = '12144777067' # my account\n",
    "#user = 'rm2azb4jnd15soiqhl5qc9eya' # my other account"
   ]
  },
  {
   "cell_type": "markdown",
   "metadata": {},
   "source": [
    "### Releasing Spotify API access to my user"
   ]
  },
  {
   "cell_type": "code",
   "execution_count": 3,
   "metadata": {},
   "outputs": [
    {
     "name": "stdout",
     "output_type": "stream",
     "text": [
      "\n",
      "\n",
      "         User authentication requires interaction with your\n",
      "         web browser. Once you enter your credentials and\n",
      "         give authorization, you will be redirected to\n",
      "         a url.  Paste that url you were directed to to\n",
      "         complete the authorization.\n",
      "\n",
      "     \n",
      "Opened https://accounts.spotify.com/authorize?client_id=f4bd9bcb87724721ab5b0a9667f1ae52&response_type=code&redirect_uri=https%3A%2F%2Fedujtm.github.io%2Fdiversify%2Fredirect&scope=playlist-modify-private+user-library-read in your browser\n",
      "\n",
      "\n",
      "Enter the the code pattern you were given: AQA3VtTBDWQTFzzG8coIbpE0_xjh2Q246LKIi0BtC1b4MsV8UJU73U9NifImwYroZdmSqHoJWIT6z7tn6J5V2nBJWVxriePGt9i2oMoyUrtunsZjATr6prx-EWSDG2DbtS0lTOt6SdwGqZOzjbmsHSYEeaBF-dLT749RWpXOR05xL0afCxT1tuQDtOmRHjmY7WwSgZ8Y1fGjQpN9WYlDCcKsCOoFve-eBCG6j7ju1OjC14k24Sdqt3n-ivXgebth62QYbEFa5VxexCZT5DKS\n",
      "\n",
      "\n"
     ]
    }
   ],
   "source": [
    "session = SpotifySession(my_user)"
   ]
  },
  {
   "cell_type": "markdown",
   "metadata": {},
   "source": [
    "### Collecting tracks for the train dataset"
   ]
  },
  {
   "cell_type": "markdown",
   "metadata": {},
   "source": [
    "- Collecting tracks"
   ]
  },
  {
   "cell_type": "code",
   "execution_count": 4,
   "metadata": {},
   "outputs": [
    {
     "name": "stdout",
     "output_type": "stream",
     "text": [
      "(10000, 8)\n"
     ]
    },
    {
     "data": {
      "text/html": [
       "<div>\n",
       "<style scoped>\n",
       "    .dataframe tbody tr th:only-of-type {\n",
       "        vertical-align: middle;\n",
       "    }\n",
       "\n",
       "    .dataframe tbody tr th {\n",
       "        vertical-align: top;\n",
       "    }\n",
       "\n",
       "    .dataframe thead th {\n",
       "        text-align: right;\n",
       "    }\n",
       "</style>\n",
       "<table border=\"1\" class=\"dataframe\">\n",
       "  <thead>\n",
       "    <tr style=\"text-align: right;\">\n",
       "      <th></th>\n",
       "      <th>album</th>\n",
       "      <th>album_id</th>\n",
       "      <th>artist</th>\n",
       "      <th>artist_id</th>\n",
       "      <th>duration_ms</th>\n",
       "      <th>id</th>\n",
       "      <th>name</th>\n",
       "      <th>popularity</th>\n",
       "    </tr>\n",
       "  </thead>\n",
       "  <tbody>\n",
       "    <tr>\n",
       "      <th>0</th>\n",
       "      <td>Lover, Leaver</td>\n",
       "      <td>2pwQljRu5CDZrWWewU4Tdy</td>\n",
       "      <td>Greta Van Fleet</td>\n",
       "      <td>4NpFxQe2UvRCAjto3JqlSl</td>\n",
       "      <td>215013</td>\n",
       "      <td>7wjsFW5cSAGy2T9fZbJ6be</td>\n",
       "      <td>Lover, Leaver</td>\n",
       "      <td>10</td>\n",
       "    </tr>\n",
       "    <tr>\n",
       "      <th>1</th>\n",
       "      <td>When The Curtain Falls</td>\n",
       "      <td>6sZZUbFqCVf3NLXYBLzFNj</td>\n",
       "      <td>Greta Van Fleet</td>\n",
       "      <td>4NpFxQe2UvRCAjto3JqlSl</td>\n",
       "      <td>221893</td>\n",
       "      <td>3Rw9J03nW964TruD23gfaS</td>\n",
       "      <td>When The Curtain Falls</td>\n",
       "      <td>10</td>\n",
       "    </tr>\n",
       "    <tr>\n",
       "      <th>2</th>\n",
       "      <td>インフェルノ</td>\n",
       "      <td>137FjNv5TRNvbW6D17bQc1</td>\n",
       "      <td>Mrs. GREEN APPLE</td>\n",
       "      <td>4QvgGvpgzgyUOo8Yp8LDm9</td>\n",
       "      <td>212546</td>\n",
       "      <td>64yajM6CxtLghmgB53VeXT</td>\n",
       "      <td>インフェルノ</td>\n",
       "      <td>71</td>\n",
       "    </tr>\n",
       "  </tbody>\n",
       "</table>\n",
       "</div>"
      ],
      "text/plain": [
       "                    album                album_id            artist  \\\n",
       "0           Lover, Leaver  2pwQljRu5CDZrWWewU4Tdy   Greta Van Fleet   \n",
       "1  When The Curtain Falls  6sZZUbFqCVf3NLXYBLzFNj   Greta Van Fleet   \n",
       "2                  インフェルノ  137FjNv5TRNvbW6D17bQc1  Mrs. GREEN APPLE   \n",
       "\n",
       "                artist_id  duration_ms                      id  \\\n",
       "0  4NpFxQe2UvRCAjto3JqlSl       215013  7wjsFW5cSAGy2T9fZbJ6be   \n",
       "1  4NpFxQe2UvRCAjto3JqlSl       221893  3Rw9J03nW964TruD23gfaS   \n",
       "2  4QvgGvpgzgyUOo8Yp8LDm9       212546  64yajM6CxtLghmgB53VeXT   \n",
       "\n",
       "                     name  popularity  \n",
       "0           Lover, Leaver          10  \n",
       "1  When The Curtain Falls          10  \n",
       "2                  インフェルノ          71  "
      ]
     },
     "execution_count": 4,
     "metadata": {},
     "output_type": "execute_result"
    }
   ],
   "source": [
    "songs = session.get_favorite_songs()\n",
    "df_songs = pd.DataFrame(songs)\n",
    "\n",
    "print(df_songs.shape)\n",
    "df_songs.head(3)"
   ]
  },
  {
   "cell_type": "markdown",
   "metadata": {},
   "source": [
    "- Collecting features for the tracks above"
   ]
  },
  {
   "cell_type": "code",
   "execution_count": 5,
   "metadata": {},
   "outputs": [
    {
     "name": "stdout",
     "output_type": "stream",
     "text": [
      "(10000, 12)\n"
     ]
    },
    {
     "data": {
      "text/html": [
       "<div>\n",
       "<style scoped>\n",
       "    .dataframe tbody tr th:only-of-type {\n",
       "        vertical-align: middle;\n",
       "    }\n",
       "\n",
       "    .dataframe tbody tr th {\n",
       "        vertical-align: top;\n",
       "    }\n",
       "\n",
       "    .dataframe thead th {\n",
       "        text-align: right;\n",
       "    }\n",
       "</style>\n",
       "<table border=\"1\" class=\"dataframe\">\n",
       "  <thead>\n",
       "    <tr style=\"text-align: right;\">\n",
       "      <th></th>\n",
       "      <th>acousticness</th>\n",
       "      <th>danceability</th>\n",
       "      <th>energy</th>\n",
       "      <th>id</th>\n",
       "      <th>instrumentalness</th>\n",
       "      <th>key</th>\n",
       "      <th>liveness</th>\n",
       "      <th>loudness</th>\n",
       "      <th>mode</th>\n",
       "      <th>speechiness</th>\n",
       "      <th>tempo</th>\n",
       "      <th>valence</th>\n",
       "    </tr>\n",
       "  </thead>\n",
       "  <tbody>\n",
       "    <tr>\n",
       "      <th>0</th>\n",
       "      <td>0.00213</td>\n",
       "      <td>0.496</td>\n",
       "      <td>0.922</td>\n",
       "      <td>7wjsFW5cSAGy2T9fZbJ6be</td>\n",
       "      <td>0.2100</td>\n",
       "      <td>9</td>\n",
       "      <td>0.1360</td>\n",
       "      <td>-3.878</td>\n",
       "      <td>1</td>\n",
       "      <td>0.0475</td>\n",
       "      <td>91.972</td>\n",
       "      <td>0.617</td>\n",
       "    </tr>\n",
       "    <tr>\n",
       "      <th>1</th>\n",
       "      <td>0.04570</td>\n",
       "      <td>0.381</td>\n",
       "      <td>0.975</td>\n",
       "      <td>3Rw9J03nW964TruD23gfaS</td>\n",
       "      <td>0.0706</td>\n",
       "      <td>0</td>\n",
       "      <td>0.0713</td>\n",
       "      <td>-2.258</td>\n",
       "      <td>1</td>\n",
       "      <td>0.1560</td>\n",
       "      <td>191.974</td>\n",
       "      <td>0.674</td>\n",
       "    </tr>\n",
       "    <tr>\n",
       "      <th>2</th>\n",
       "      <td>0.00955</td>\n",
       "      <td>0.529</td>\n",
       "      <td>0.931</td>\n",
       "      <td>64yajM6CxtLghmgB53VeXT</td>\n",
       "      <td>0.0000</td>\n",
       "      <td>4</td>\n",
       "      <td>0.4650</td>\n",
       "      <td>-1.538</td>\n",
       "      <td>1</td>\n",
       "      <td>0.0581</td>\n",
       "      <td>92.466</td>\n",
       "      <td>0.695</td>\n",
       "    </tr>\n",
       "  </tbody>\n",
       "</table>\n",
       "</div>"
      ],
      "text/plain": [
       "   acousticness  danceability  energy                      id  \\\n",
       "0       0.00213         0.496   0.922  7wjsFW5cSAGy2T9fZbJ6be   \n",
       "1       0.04570         0.381   0.975  3Rw9J03nW964TruD23gfaS   \n",
       "2       0.00955         0.529   0.931  64yajM6CxtLghmgB53VeXT   \n",
       "\n",
       "   instrumentalness  key  liveness  loudness  mode  speechiness    tempo  \\\n",
       "0            0.2100    9    0.1360    -3.878     1       0.0475   91.972   \n",
       "1            0.0706    0    0.0713    -2.258     1       0.1560  191.974   \n",
       "2            0.0000    4    0.4650    -1.538     1       0.0581   92.466   \n",
       "\n",
       "   valence  \n",
       "0    0.617  \n",
       "1    0.674  \n",
       "2    0.695  "
      ]
     },
     "execution_count": 5,
     "metadata": {},
     "output_type": "execute_result"
    }
   ],
   "source": [
    "features = session.get_favorite_songs(features = True)\n",
    "df_features = pd.DataFrame(features)\n",
    "\n",
    "print(df_features.shape)\n",
    "df_features.head(3)"
   ]
  },
  {
   "cell_type": "markdown",
   "metadata": {},
   "source": [
    "- Joining the datasets"
   ]
  },
  {
   "cell_type": "code",
   "execution_count": 6,
   "metadata": {},
   "outputs": [
    {
     "name": "stdout",
     "output_type": "stream",
     "text": [
      "(10000, 19)\n"
     ]
    },
    {
     "data": {
      "text/html": [
       "<div>\n",
       "<style scoped>\n",
       "    .dataframe tbody tr th:only-of-type {\n",
       "        vertical-align: middle;\n",
       "    }\n",
       "\n",
       "    .dataframe tbody tr th {\n",
       "        vertical-align: top;\n",
       "    }\n",
       "\n",
       "    .dataframe thead th {\n",
       "        text-align: right;\n",
       "    }\n",
       "</style>\n",
       "<table border=\"1\" class=\"dataframe\">\n",
       "  <thead>\n",
       "    <tr style=\"text-align: right;\">\n",
       "      <th></th>\n",
       "      <th>album</th>\n",
       "      <th>album_id</th>\n",
       "      <th>artist</th>\n",
       "      <th>artist_id</th>\n",
       "      <th>duration_ms</th>\n",
       "      <th>id</th>\n",
       "      <th>name</th>\n",
       "      <th>popularity</th>\n",
       "      <th>acousticness</th>\n",
       "      <th>danceability</th>\n",
       "      <th>energy</th>\n",
       "      <th>instrumentalness</th>\n",
       "      <th>key</th>\n",
       "      <th>liveness</th>\n",
       "      <th>loudness</th>\n",
       "      <th>mode</th>\n",
       "      <th>speechiness</th>\n",
       "      <th>tempo</th>\n",
       "      <th>valence</th>\n",
       "    </tr>\n",
       "  </thead>\n",
       "  <tbody>\n",
       "    <tr>\n",
       "      <th>0</th>\n",
       "      <td>Lover, Leaver</td>\n",
       "      <td>2pwQljRu5CDZrWWewU4Tdy</td>\n",
       "      <td>Greta Van Fleet</td>\n",
       "      <td>4NpFxQe2UvRCAjto3JqlSl</td>\n",
       "      <td>215013</td>\n",
       "      <td>7wjsFW5cSAGy2T9fZbJ6be</td>\n",
       "      <td>Lover, Leaver</td>\n",
       "      <td>10</td>\n",
       "      <td>0.00213</td>\n",
       "      <td>0.496</td>\n",
       "      <td>0.922</td>\n",
       "      <td>0.2100</td>\n",
       "      <td>9</td>\n",
       "      <td>0.1360</td>\n",
       "      <td>-3.878</td>\n",
       "      <td>1</td>\n",
       "      <td>0.0475</td>\n",
       "      <td>91.972</td>\n",
       "      <td>0.617</td>\n",
       "    </tr>\n",
       "    <tr>\n",
       "      <th>1</th>\n",
       "      <td>When The Curtain Falls</td>\n",
       "      <td>6sZZUbFqCVf3NLXYBLzFNj</td>\n",
       "      <td>Greta Van Fleet</td>\n",
       "      <td>4NpFxQe2UvRCAjto3JqlSl</td>\n",
       "      <td>221893</td>\n",
       "      <td>3Rw9J03nW964TruD23gfaS</td>\n",
       "      <td>When The Curtain Falls</td>\n",
       "      <td>10</td>\n",
       "      <td>0.04570</td>\n",
       "      <td>0.381</td>\n",
       "      <td>0.975</td>\n",
       "      <td>0.0706</td>\n",
       "      <td>0</td>\n",
       "      <td>0.0713</td>\n",
       "      <td>-2.258</td>\n",
       "      <td>1</td>\n",
       "      <td>0.1560</td>\n",
       "      <td>191.974</td>\n",
       "      <td>0.674</td>\n",
       "    </tr>\n",
       "    <tr>\n",
       "      <th>2</th>\n",
       "      <td>インフェルノ</td>\n",
       "      <td>137FjNv5TRNvbW6D17bQc1</td>\n",
       "      <td>Mrs. GREEN APPLE</td>\n",
       "      <td>4QvgGvpgzgyUOo8Yp8LDm9</td>\n",
       "      <td>212546</td>\n",
       "      <td>64yajM6CxtLghmgB53VeXT</td>\n",
       "      <td>インフェルノ</td>\n",
       "      <td>71</td>\n",
       "      <td>0.00955</td>\n",
       "      <td>0.529</td>\n",
       "      <td>0.931</td>\n",
       "      <td>0.0000</td>\n",
       "      <td>4</td>\n",
       "      <td>0.4650</td>\n",
       "      <td>-1.538</td>\n",
       "      <td>1</td>\n",
       "      <td>0.0581</td>\n",
       "      <td>92.466</td>\n",
       "      <td>0.695</td>\n",
       "    </tr>\n",
       "  </tbody>\n",
       "</table>\n",
       "</div>"
      ],
      "text/plain": [
       "                    album                album_id            artist  \\\n",
       "0           Lover, Leaver  2pwQljRu5CDZrWWewU4Tdy   Greta Van Fleet   \n",
       "1  When The Curtain Falls  6sZZUbFqCVf3NLXYBLzFNj   Greta Van Fleet   \n",
       "2                  インフェルノ  137FjNv5TRNvbW6D17bQc1  Mrs. GREEN APPLE   \n",
       "\n",
       "                artist_id  duration_ms                      id  \\\n",
       "0  4NpFxQe2UvRCAjto3JqlSl       215013  7wjsFW5cSAGy2T9fZbJ6be   \n",
       "1  4NpFxQe2UvRCAjto3JqlSl       221893  3Rw9J03nW964TruD23gfaS   \n",
       "2  4QvgGvpgzgyUOo8Yp8LDm9       212546  64yajM6CxtLghmgB53VeXT   \n",
       "\n",
       "                     name  popularity  acousticness  danceability  energy  \\\n",
       "0           Lover, Leaver          10       0.00213         0.496   0.922   \n",
       "1  When The Curtain Falls          10       0.04570         0.381   0.975   \n",
       "2                  インフェルノ          71       0.00955         0.529   0.931   \n",
       "\n",
       "   instrumentalness  key  liveness  loudness  mode  speechiness    tempo  \\\n",
       "0            0.2100    9    0.1360    -3.878     1       0.0475   91.972   \n",
       "1            0.0706    0    0.0713    -2.258     1       0.1560  191.974   \n",
       "2            0.0000    4    0.4650    -1.538     1       0.0581   92.466   \n",
       "\n",
       "   valence  \n",
       "0    0.617  \n",
       "1    0.674  \n",
       "2    0.695  "
      ]
     },
     "execution_count": 6,
     "metadata": {},
     "output_type": "execute_result"
    }
   ],
   "source": [
    "songs_features = df_songs.merge(df_features, how='inner', on='id')\n",
    "\n",
    "print(songs_features.shape)\n",
    "songs_features.head(3)"
   ]
  },
  {
   "cell_type": "markdown",
   "metadata": {},
   "source": [
    "- Checking data integrity"
   ]
  },
  {
   "cell_type": "code",
   "execution_count": 7,
   "metadata": {},
   "outputs": [
    {
     "data": {
      "text/plain": [
       "<matplotlib.axes._subplots.AxesSubplot at 0xc7beef0>"
      ]
     },
     "execution_count": 7,
     "metadata": {},
     "output_type": "execute_result"
    },
    {
     "data": {
      "image/png": "[encoded data removed]",
      "text/plain": [
       "<Figure size 1800x720 with 2 Axes>"
      ]
     },
     "metadata": {
      "needs_background": "light"
     },
     "output_type": "display_data"
    }
   ],
   "source": [
    "msno.matrix(songs_features)"
   ]
  },
  {
   "cell_type": "markdown",
   "metadata": {},
   "source": [
    "- Cleaning null values, if it's necessary"
   ]
  },
  {
   "cell_type": "code",
   "execution_count": 8,
   "metadata": {},
   "outputs": [
    {
     "name": "stdout",
     "output_type": "stream",
     "text": [
      "<class 'pandas.core.frame.DataFrame'>\n",
      "Int64Index: 10000 entries, 0 to 9999\n",
      "Data columns (total 19 columns):\n",
      "album               10000 non-null object\n",
      "album_id            10000 non-null object\n",
      "artist              10000 non-null object\n",
      "artist_id           10000 non-null object\n",
      "duration_ms         10000 non-null int64\n",
      "id                  10000 non-null object\n",
      "name                10000 non-null object\n",
      "popularity          10000 non-null int64\n",
      "acousticness        10000 non-null float64\n",
      "danceability        10000 non-null float64\n",
      "energy              10000 non-null float64\n",
      "instrumentalness    10000 non-null float64\n",
      "key                 10000 non-null int64\n",
      "liveness            10000 non-null float64\n",
      "loudness            10000 non-null float64\n",
      "mode                10000 non-null int64\n",
      "speechiness         10000 non-null float64\n",
      "tempo               10000 non-null float64\n",
      "valence             10000 non-null float64\n",
      "dtypes: float64(9), int64(4), object(6)\n",
      "memory usage: 1.5+ MB\n"
     ]
    }
   ],
   "source": [
    "songs_features.dropna(inplace=True)\n",
    "songs_features.info()"
   ]
  },
  {
   "cell_type": "markdown",
   "metadata": {},
   "source": [
    "### Collecting tracks from the users playlists\n",
    "\n",
    "- Collecting tracks and features"
   ]
  },
  {
   "cell_type": "code",
   "execution_count": 9,
   "metadata": {},
   "outputs": [
    {
     "name": "stdout",
     "output_type": "stream",
     "text": [
      "Number of Playlists:  10\n"
     ]
    }
   ],
   "source": [
    "playlists_songs = session.get_user_playlists(user)\n",
    "playlists_features = session.get_user_playlists(user, features=True)\n",
    "\n",
    "print(\"Number of Playlists: \", len(playlists_songs))"
   ]
  },
  {
   "cell_type": "markdown",
   "metadata": {},
   "source": [
    "- Retriving only the songs from the dictionaries\n",
    "\n",
    "Songs"
   ]
  },
  {
   "cell_type": "code",
   "execution_count": 10,
   "metadata": {},
   "outputs": [
    {
     "name": "stdout",
     "output_type": "stream",
     "text": [
      "(615, 8)\n"
     ]
    },
    {
     "data": {
      "text/html": [
       "<div>\n",
       "<style scoped>\n",
       "    .dataframe tbody tr th:only-of-type {\n",
       "        vertical-align: middle;\n",
       "    }\n",
       "\n",
       "    .dataframe tbody tr th {\n",
       "        vertical-align: top;\n",
       "    }\n",
       "\n",
       "    .dataframe thead th {\n",
       "        text-align: right;\n",
       "    }\n",
       "</style>\n",
       "<table border=\"1\" class=\"dataframe\">\n",
       "  <thead>\n",
       "    <tr style=\"text-align: right;\">\n",
       "      <th></th>\n",
       "      <th>album</th>\n",
       "      <th>album_id</th>\n",
       "      <th>artist</th>\n",
       "      <th>artist_id</th>\n",
       "      <th>duration_ms</th>\n",
       "      <th>id</th>\n",
       "      <th>name</th>\n",
       "      <th>popularity</th>\n",
       "    </tr>\n",
       "  </thead>\n",
       "  <tbody>\n",
       "    <tr>\n",
       "      <th>0</th>\n",
       "      <td>All In The Value</td>\n",
       "      <td>7eNouI40lMINobrcDhAaBS</td>\n",
       "      <td>HONNE</td>\n",
       "      <td>0Vw76uk7P8yVtTClWyOhac</td>\n",
       "      <td>302487</td>\n",
       "      <td>3UdZ07wbVCN7aZxGBXjMia</td>\n",
       "      <td>The Night</td>\n",
       "      <td>43</td>\n",
       "    </tr>\n",
       "    <tr>\n",
       "      <th>1</th>\n",
       "      <td>Jungle</td>\n",
       "      <td>7oZG5VZ4SukMmnylJ16O24</td>\n",
       "      <td>Jungle</td>\n",
       "      <td>59oA5WbbQvomJz2BuRG071</td>\n",
       "      <td>173626</td>\n",
       "      <td>24887eCca9nMwyGfdPsOI6</td>\n",
       "      <td>Drops</td>\n",
       "      <td>44</td>\n",
       "    </tr>\n",
       "    <tr>\n",
       "      <th>2</th>\n",
       "      <td>Unbound</td>\n",
       "      <td>6FdqBcYp1942mjle6d4xQM</td>\n",
       "      <td>Ásgeir</td>\n",
       "      <td>7xUZ4069zcyBM4Bn10NQ1c</td>\n",
       "      <td>247129</td>\n",
       "      <td>5Sjx2nRkH30WCDlPo1Ozfd</td>\n",
       "      <td>Unbound</td>\n",
       "      <td>9</td>\n",
       "    </tr>\n",
       "  </tbody>\n",
       "</table>\n",
       "</div>"
      ],
      "text/plain": [
       "              album                album_id  artist               artist_id  \\\n",
       "0  All In The Value  7eNouI40lMINobrcDhAaBS   HONNE  0Vw76uk7P8yVtTClWyOhac   \n",
       "1            Jungle  7oZG5VZ4SukMmnylJ16O24  Jungle  59oA5WbbQvomJz2BuRG071   \n",
       "2           Unbound  6FdqBcYp1942mjle6d4xQM  Ásgeir  7xUZ4069zcyBM4Bn10NQ1c   \n",
       "\n",
       "   duration_ms                      id       name  popularity  \n",
       "0       302487  3UdZ07wbVCN7aZxGBXjMia  The Night          43  \n",
       "1       173626  24887eCca9nMwyGfdPsOI6      Drops          44  \n",
       "2       247129  5Sjx2nRkH30WCDlPo1Ozfd    Unbound           9  "
      ]
     },
     "execution_count": 10,
     "metadata": {},
     "output_type": "execute_result"
    }
   ],
   "source": [
    "user_songs = [song for playlist, songs in playlists_songs for song in songs]\n",
    "df_user_songs = pd.DataFrame(user_songs).drop_duplicates(subset='id')\n",
    "\n",
    "print(df_user_songs.shape)\n",
    "df_user_songs.head(3)"
   ]
  },
  {
   "cell_type": "markdown",
   "metadata": {},
   "source": [
    "Features"
   ]
  },
  {
   "cell_type": "code",
   "execution_count": 11,
   "metadata": {},
   "outputs": [
    {
     "name": "stdout",
     "output_type": "stream",
     "text": [
      "(614, 12)\n"
     ]
    },
    {
     "data": {
      "text/html": [
       "<div>\n",
       "<style scoped>\n",
       "    .dataframe tbody tr th:only-of-type {\n",
       "        vertical-align: middle;\n",
       "    }\n",
       "\n",
       "    .dataframe tbody tr th {\n",
       "        vertical-align: top;\n",
       "    }\n",
       "\n",
       "    .dataframe thead th {\n",
       "        text-align: right;\n",
       "    }\n",
       "</style>\n",
       "<table border=\"1\" class=\"dataframe\">\n",
       "  <thead>\n",
       "    <tr style=\"text-align: right;\">\n",
       "      <th></th>\n",
       "      <th>acousticness</th>\n",
       "      <th>danceability</th>\n",
       "      <th>energy</th>\n",
       "      <th>id</th>\n",
       "      <th>instrumentalness</th>\n",
       "      <th>key</th>\n",
       "      <th>liveness</th>\n",
       "      <th>loudness</th>\n",
       "      <th>mode</th>\n",
       "      <th>speechiness</th>\n",
       "      <th>tempo</th>\n",
       "      <th>valence</th>\n",
       "    </tr>\n",
       "  </thead>\n",
       "  <tbody>\n",
       "    <tr>\n",
       "      <th>0</th>\n",
       "      <td>0.197</td>\n",
       "      <td>0.667</td>\n",
       "      <td>0.558</td>\n",
       "      <td>3UdZ07wbVCN7aZxGBXjMia</td>\n",
       "      <td>0.000003</td>\n",
       "      <td>9</td>\n",
       "      <td>0.1760</td>\n",
       "      <td>-5.743</td>\n",
       "      <td>0</td>\n",
       "      <td>0.0364</td>\n",
       "      <td>140.016</td>\n",
       "      <td>0.402</td>\n",
       "    </tr>\n",
       "    <tr>\n",
       "      <th>1</th>\n",
       "      <td>0.852</td>\n",
       "      <td>0.703</td>\n",
       "      <td>0.237</td>\n",
       "      <td>24887eCca9nMwyGfdPsOI6</td>\n",
       "      <td>0.637000</td>\n",
       "      <td>5</td>\n",
       "      <td>0.0924</td>\n",
       "      <td>-14.283</td>\n",
       "      <td>1</td>\n",
       "      <td>0.0541</td>\n",
       "      <td>107.992</td>\n",
       "      <td>0.171</td>\n",
       "    </tr>\n",
       "    <tr>\n",
       "      <th>2</th>\n",
       "      <td>0.779</td>\n",
       "      <td>0.499</td>\n",
       "      <td>0.403</td>\n",
       "      <td>5Sjx2nRkH30WCDlPo1Ozfd</td>\n",
       "      <td>0.768000</td>\n",
       "      <td>11</td>\n",
       "      <td>0.1160</td>\n",
       "      <td>-10.310</td>\n",
       "      <td>1</td>\n",
       "      <td>0.0491</td>\n",
       "      <td>99.455</td>\n",
       "      <td>0.335</td>\n",
       "    </tr>\n",
       "  </tbody>\n",
       "</table>\n",
       "</div>"
      ],
      "text/plain": [
       "   acousticness  danceability  energy                      id  \\\n",
       "0         0.197         0.667   0.558  3UdZ07wbVCN7aZxGBXjMia   \n",
       "1         0.852         0.703   0.237  24887eCca9nMwyGfdPsOI6   \n",
       "2         0.779         0.499   0.403  5Sjx2nRkH30WCDlPo1Ozfd   \n",
       "\n",
       "   instrumentalness  key  liveness  loudness  mode  speechiness    tempo  \\\n",
       "0          0.000003    9    0.1760    -5.743     0       0.0364  140.016   \n",
       "1          0.637000    5    0.0924   -14.283     1       0.0541  107.992   \n",
       "2          0.768000   11    0.1160   -10.310     1       0.0491   99.455   \n",
       "\n",
       "   valence  \n",
       "0    0.402  \n",
       "1    0.171  \n",
       "2    0.335  "
      ]
     },
     "execution_count": 11,
     "metadata": {},
     "output_type": "execute_result"
    }
   ],
   "source": [
    "user_features = [song for playlist, songs in playlists_features for song in songs]\n",
    "df_user_features = pd.DataFrame(user_features).drop_duplicates(subset='id')\n",
    "\n",
    "print(df_user_features.shape)\n",
    "df_user_features.head(3)"
   ]
  },
  {
   "cell_type": "markdown",
   "metadata": {},
   "source": [
    "- Joining the datasets from above"
   ]
  },
  {
   "cell_type": "code",
   "execution_count": 12,
   "metadata": {},
   "outputs": [
    {
     "name": "stdout",
     "output_type": "stream",
     "text": [
      "(614, 19)\n"
     ]
    },
    {
     "data": {
      "text/html": [
       "<div>\n",
       "<style scoped>\n",
       "    .dataframe tbody tr th:only-of-type {\n",
       "        vertical-align: middle;\n",
       "    }\n",
       "\n",
       "    .dataframe tbody tr th {\n",
       "        vertical-align: top;\n",
       "    }\n",
       "\n",
       "    .dataframe thead th {\n",
       "        text-align: right;\n",
       "    }\n",
       "</style>\n",
       "<table border=\"1\" class=\"dataframe\">\n",
       "  <thead>\n",
       "    <tr style=\"text-align: right;\">\n",
       "      <th></th>\n",
       "      <th>album</th>\n",
       "      <th>album_id</th>\n",
       "      <th>artist</th>\n",
       "      <th>artist_id</th>\n",
       "      <th>duration_ms</th>\n",
       "      <th>id</th>\n",
       "      <th>name</th>\n",
       "      <th>popularity</th>\n",
       "      <th>acousticness</th>\n",
       "      <th>danceability</th>\n",
       "      <th>energy</th>\n",
       "      <th>instrumentalness</th>\n",
       "      <th>key</th>\n",
       "      <th>liveness</th>\n",
       "      <th>loudness</th>\n",
       "      <th>mode</th>\n",
       "      <th>speechiness</th>\n",
       "      <th>tempo</th>\n",
       "      <th>valence</th>\n",
       "    </tr>\n",
       "  </thead>\n",
       "  <tbody>\n",
       "    <tr>\n",
       "      <th>0</th>\n",
       "      <td>All In The Value</td>\n",
       "      <td>7eNouI40lMINobrcDhAaBS</td>\n",
       "      <td>HONNE</td>\n",
       "      <td>0Vw76uk7P8yVtTClWyOhac</td>\n",
       "      <td>302487</td>\n",
       "      <td>3UdZ07wbVCN7aZxGBXjMia</td>\n",
       "      <td>The Night</td>\n",
       "      <td>43</td>\n",
       "      <td>0.197</td>\n",
       "      <td>0.667</td>\n",
       "      <td>0.558</td>\n",
       "      <td>0.000003</td>\n",
       "      <td>9</td>\n",
       "      <td>0.1760</td>\n",
       "      <td>-5.743</td>\n",
       "      <td>0</td>\n",
       "      <td>0.0364</td>\n",
       "      <td>140.016</td>\n",
       "      <td>0.402</td>\n",
       "    </tr>\n",
       "    <tr>\n",
       "      <th>1</th>\n",
       "      <td>Jungle</td>\n",
       "      <td>7oZG5VZ4SukMmnylJ16O24</td>\n",
       "      <td>Jungle</td>\n",
       "      <td>59oA5WbbQvomJz2BuRG071</td>\n",
       "      <td>173626</td>\n",
       "      <td>24887eCca9nMwyGfdPsOI6</td>\n",
       "      <td>Drops</td>\n",
       "      <td>44</td>\n",
       "      <td>0.852</td>\n",
       "      <td>0.703</td>\n",
       "      <td>0.237</td>\n",
       "      <td>0.637000</td>\n",
       "      <td>5</td>\n",
       "      <td>0.0924</td>\n",
       "      <td>-14.283</td>\n",
       "      <td>1</td>\n",
       "      <td>0.0541</td>\n",
       "      <td>107.992</td>\n",
       "      <td>0.171</td>\n",
       "    </tr>\n",
       "    <tr>\n",
       "      <th>2</th>\n",
       "      <td>Unbound</td>\n",
       "      <td>6FdqBcYp1942mjle6d4xQM</td>\n",
       "      <td>Ásgeir</td>\n",
       "      <td>7xUZ4069zcyBM4Bn10NQ1c</td>\n",
       "      <td>247129</td>\n",
       "      <td>5Sjx2nRkH30WCDlPo1Ozfd</td>\n",
       "      <td>Unbound</td>\n",
       "      <td>9</td>\n",
       "      <td>0.779</td>\n",
       "      <td>0.499</td>\n",
       "      <td>0.403</td>\n",
       "      <td>0.768000</td>\n",
       "      <td>11</td>\n",
       "      <td>0.1160</td>\n",
       "      <td>-10.310</td>\n",
       "      <td>1</td>\n",
       "      <td>0.0491</td>\n",
       "      <td>99.455</td>\n",
       "      <td>0.335</td>\n",
       "    </tr>\n",
       "  </tbody>\n",
       "</table>\n",
       "</div>"
      ],
      "text/plain": [
       "              album                album_id  artist               artist_id  \\\n",
       "0  All In The Value  7eNouI40lMINobrcDhAaBS   HONNE  0Vw76uk7P8yVtTClWyOhac   \n",
       "1            Jungle  7oZG5VZ4SukMmnylJ16O24  Jungle  59oA5WbbQvomJz2BuRG071   \n",
       "2           Unbound  6FdqBcYp1942mjle6d4xQM  Ásgeir  7xUZ4069zcyBM4Bn10NQ1c   \n",
       "\n",
       "   duration_ms                      id       name  popularity  acousticness  \\\n",
       "0       302487  3UdZ07wbVCN7aZxGBXjMia  The Night          43         0.197   \n",
       "1       173626  24887eCca9nMwyGfdPsOI6      Drops          44         0.852   \n",
       "2       247129  5Sjx2nRkH30WCDlPo1Ozfd    Unbound           9         0.779   \n",
       "\n",
       "   danceability  energy  instrumentalness  key  liveness  loudness  mode  \\\n",
       "0         0.667   0.558          0.000003    9    0.1760    -5.743     0   \n",
       "1         0.703   0.237          0.637000    5    0.0924   -14.283     1   \n",
       "2         0.499   0.403          0.768000   11    0.1160   -10.310     1   \n",
       "\n",
       "   speechiness    tempo  valence  \n",
       "0       0.0364  140.016    0.402  \n",
       "1       0.0541  107.992    0.171  \n",
       "2       0.0491   99.455    0.335  "
      ]
     },
     "execution_count": 12,
     "metadata": {},
     "output_type": "execute_result"
    }
   ],
   "source": [
    "user_songs_features = df_user_songs.merge(df_user_features, how='inner', on='id')\n",
    "\n",
    "print(user_songs_features.shape)\n",
    "user_songs_features.head(3)"
   ]
  },
  {
   "cell_type": "markdown",
   "metadata": {},
   "source": [
    "- Checking users data integrity"
   ]
  },
  {
   "cell_type": "code",
   "execution_count": 13,
   "metadata": {},
   "outputs": [
    {
     "data": {
      "text/plain": [
       "<matplotlib.axes._subplots.AxesSubplot at 0xcb6d6d8>"
      ]
     },
     "execution_count": 13,
     "metadata": {},
     "output_type": "execute_result"
    },
    {
     "data": {
      "image/png": "[encoded data removed]",
      "text/plain": [
       "<Figure size 1800x720 with 2 Axes>"
      ]
     },
     "metadata": {
      "needs_background": "light"
     },
     "output_type": "display_data"
    }
   ],
   "source": [
    "msno.matrix(user_songs_features)"
   ]
  },
  {
   "cell_type": "markdown",
   "metadata": {},
   "source": [
    "- Cleaning null values, if it's necessary"
   ]
  },
  {
   "cell_type": "code",
   "execution_count": 14,
   "metadata": {},
   "outputs": [
    {
     "name": "stdout",
     "output_type": "stream",
     "text": [
      "<class 'pandas.core.frame.DataFrame'>\n",
      "Int64Index: 614 entries, 0 to 620\n",
      "Data columns (total 12 columns):\n",
      "acousticness        614 non-null float64\n",
      "danceability        614 non-null float64\n",
      "energy              614 non-null float64\n",
      "id                  614 non-null object\n",
      "instrumentalness    614 non-null float64\n",
      "key                 614 non-null int64\n",
      "liveness            614 non-null float64\n",
      "loudness            614 non-null float64\n",
      "mode                614 non-null int64\n",
      "speechiness         614 non-null float64\n",
      "tempo               614 non-null float64\n",
      "valence             614 non-null float64\n",
      "dtypes: float64(9), int64(2), object(1)\n",
      "memory usage: 62.4+ KB\n"
     ]
    }
   ],
   "source": [
    "df_user_features.dropna(inplace=True)\n",
    "df_user_features.info()"
   ]
  },
  {
   "cell_type": "markdown",
   "metadata": {},
   "source": [
    "### Exporting to csv\n",
    "\n",
    "- Train dataset (clustering)"
   ]
  },
  {
   "cell_type": "code",
   "execution_count": 21,
   "metadata": {},
   "outputs": [],
   "source": [
    "songs_features.to_csv('datasets/songs_to_cluster.csv', index=False)"
   ]
  },
  {
   "cell_type": "markdown",
   "metadata": {},
   "source": [
    "- Users dataset"
   ]
  },
  {
   "cell_type": "code",
   "execution_count": 15,
   "metadata": {},
   "outputs": [],
   "source": [
    "user_songs_features.to_csv('datasets/user_songs/{}_songs.csv'.format(user), index=False)"
   ]
  },
  {
   "cell_type": "markdown",
   "metadata": {},
   "source": [
    "### Future works\n",
    "\n",
    "- Pass list of users to collect songs"
   ]
  }
 ],
 "metadata": {
  "kernelspec": {
   "display_name": "Python 3",
   "language": "python",
   "name": "python3"
  },
  "language_info": {
   "codemirror_mode": {
    "name": "ipython",
    "version": 3
   },
   "file_extension": ".py",
   "mimetype": "text/x-python",
   "name": "python",
   "nbconvert_exporter": "python",
   "pygments_lexer": "ipython3",
   "version": "3.7.6"
  }
 },
 "nbformat": 4,
 "nbformat_minor": 4
}
