{
 "cells": [
  {
   "cell_type": "markdown",
   "metadata": {},
   "source": [
    "### Imports"
   ]
  },
  {
   "cell_type": "code",
   "execution_count": 38,
   "metadata": {},
   "outputs": [],
   "source": [
    "from diversify.session import SpotifySession\n",
    "import pandas as pd\n",
    "import missingno as msno\n",
    "%matplotlib inline"
   ]
  },
  {
   "cell_type": "code",
   "execution_count": null,
   "metadata": {},
   "outputs": [],
   "source": [
    "def get_genres(artists_id, session):\n",
    "    response = spfy.artist(artists_id)\n",
    "    if len(response['genres']) == 0:\n",
    "      return []\n",
    "    return response['genres']"
   ]
  },
  {
   "cell_type": "markdown",
   "metadata": {},
   "source": [
    "### Usuários"
   ]
  },
  {
   "cell_type": "code",
   "execution_count": 43,
   "metadata": {},
   "outputs": [],
   "source": [
    "#my_user = '12144777067' # minha conta\n",
    "my_user = 'rm2azb4jnd15soiqhl5qc9eya' # minha conta reserva\n",
    "\n",
    "#user = 'belzedu' # Edu\n",
    "user = 'ilikemiojo' # Maurício\n",
    "#user = '12144777067' # minha conta\n",
    "#user = 'rm2azb4jnd15soiqhl5qc9eya' # minha conta reserva"
   ]
  },
  {
   "cell_type": "markdown",
   "metadata": {},
   "source": [
    "### Coletando as músicas para o dataset de treino"
   ]
  },
  {
   "cell_type": "code",
   "execution_count": 2,
   "metadata": {},
   "outputs": [
    {
     "name": "stdout",
     "output_type": "stream",
     "text": [
      "\n",
      "\n",
      "         User authentication requires interaction with your\n",
      "         web browser. Once you enter your credentials and\n",
      "         give authorization, you will be redirected to\n",
      "         a url.  Paste that url you were directed to to\n",
      "         complete the authorization.\n",
      "\n",
      "     \n",
      "Opened https://accounts.spotify.com/authorize?client_id=f4bd9bcb87724721ab5b0a9667f1ae52&response_type=code&redirect_uri=https%3A%2F%2Fedujtm.github.io%2Fdiversify%2Fredirect&scope=playlist-modify-private+user-library-read in your browser\n",
      "\n",
      "\n",
      "Enter the the code pattern you were given: AQBCuQ-ZaGtuFXriVCN5wmLQGPSwO8fes8D_HGyJmGQYlUC0bXO7FhrLUjE9AtngSZFy1gxj_CbiXG3S1RnW7ffOi8K35QZqD6O6SvVit-z83bjkIISMdml-FSkyGTAdRwvKD7BgZYK7vlMLGnTOlgeJxJYgf0h95hevhIfl8eCI7B4hpJD3b9LzjZ-dnKpVRGzJS8LYn-7r_gxcHP9NC5HLNUwlxhEIWFgnCLLFTbbL_jPeBYhgbeTnzULaQSDtaUAggmxH1i1YaRJQxGZj\n",
      "\n",
      "\n"
     ]
    }
   ],
   "source": [
    "session = SpotifySession(my_user)"
   ]
  },
  {
   "cell_type": "markdown",
   "metadata": {},
   "source": [
    "Pegar as músicas"
   ]
  },
  {
   "cell_type": "code",
   "execution_count": 3,
   "metadata": {},
   "outputs": [
    {
     "name": "stdout",
     "output_type": "stream",
     "text": [
      "(6500, 8)\n"
     ]
    },
    {
     "data": {
      "text/html": [
       "<div>\n",
       "<style scoped>\n",
       "    .dataframe tbody tr th:only-of-type {\n",
       "        vertical-align: middle;\n",
       "    }\n",
       "\n",
       "    .dataframe tbody tr th {\n",
       "        vertical-align: top;\n",
       "    }\n",
       "\n",
       "    .dataframe thead th {\n",
       "        text-align: right;\n",
       "    }\n",
       "</style>\n",
       "<table border=\"1\" class=\"dataframe\">\n",
       "  <thead>\n",
       "    <tr style=\"text-align: right;\">\n",
       "      <th></th>\n",
       "      <th>album</th>\n",
       "      <th>album_id</th>\n",
       "      <th>artist</th>\n",
       "      <th>artist_id</th>\n",
       "      <th>duration_ms</th>\n",
       "      <th>id</th>\n",
       "      <th>name</th>\n",
       "      <th>popularity</th>\n",
       "    </tr>\n",
       "  </thead>\n",
       "  <tbody>\n",
       "    <tr>\n",
       "      <th>0</th>\n",
       "      <td>Made In Studio 2</td>\n",
       "      <td>1VE4gyyX0wEGJEnzZ4bvbM</td>\n",
       "      <td>Márcia Fellipe</td>\n",
       "      <td>3OxZ4asD88P1lJJmLcXz4K</td>\n",
       "      <td>137826</td>\n",
       "      <td>3mf4l3O9xn8JukaUETnZFt</td>\n",
       "      <td>Chá De Sofrimento</td>\n",
       "      <td>37</td>\n",
       "    </tr>\n",
       "    <tr>\n",
       "      <th>1</th>\n",
       "      <td>Made In Studio 2</td>\n",
       "      <td>1VE4gyyX0wEGJEnzZ4bvbM</td>\n",
       "      <td>Márcia Fellipe</td>\n",
       "      <td>3OxZ4asD88P1lJJmLcXz4K</td>\n",
       "      <td>145883</td>\n",
       "      <td>48cryfhSXQGrWyhnmXEOEg</td>\n",
       "      <td>Nota 1.000</td>\n",
       "      <td>38</td>\n",
       "    </tr>\n",
       "    <tr>\n",
       "      <th>2</th>\n",
       "      <td>Deixa</td>\n",
       "      <td>7wj45LWz6uIcyBd8iqdlZ5</td>\n",
       "      <td>Bruna Magalhães</td>\n",
       "      <td>108y6vREhgAIvgvm1Cq54p</td>\n",
       "      <td>207209</td>\n",
       "      <td>0m52ru9yO561lgoMHyclcC</td>\n",
       "      <td>Deixa</td>\n",
       "      <td>0</td>\n",
       "    </tr>\n",
       "  </tbody>\n",
       "</table>\n",
       "</div>"
      ],
      "text/plain": [
       "              album                album_id           artist  \\\n",
       "0  Made In Studio 2  1VE4gyyX0wEGJEnzZ4bvbM   Márcia Fellipe   \n",
       "1  Made In Studio 2  1VE4gyyX0wEGJEnzZ4bvbM   Márcia Fellipe   \n",
       "2             Deixa  7wj45LWz6uIcyBd8iqdlZ5  Bruna Magalhães   \n",
       "\n",
       "                artist_id  duration_ms                      id  \\\n",
       "0  3OxZ4asD88P1lJJmLcXz4K       137826  3mf4l3O9xn8JukaUETnZFt   \n",
       "1  3OxZ4asD88P1lJJmLcXz4K       145883  48cryfhSXQGrWyhnmXEOEg   \n",
       "2  108y6vREhgAIvgvm1Cq54p       207209  0m52ru9yO561lgoMHyclcC   \n",
       "\n",
       "                name  popularity  \n",
       "0  Chá De Sofrimento          37  \n",
       "1         Nota 1.000          38  \n",
       "2              Deixa           0  "
      ]
     },
     "execution_count": 3,
     "metadata": {},
     "output_type": "execute_result"
    }
   ],
   "source": [
    "songs = session.get_favorite_songs()\n",
    "df_songs = pd.DataFrame(songs)\n",
    "\n",
    "print(df_songs.shape)\n",
    "df_songs.head(3)"
   ]
  },
  {
   "cell_type": "markdown",
   "metadata": {},
   "source": [
    "Pegar as features das músicas acima"
   ]
  },
  {
   "cell_type": "code",
   "execution_count": 5,
   "metadata": {},
   "outputs": [
    {
     "name": "stdout",
     "output_type": "stream",
     "text": [
      "(6500, 12)\n"
     ]
    },
    {
     "data": {
      "text/html": [
       "<div>\n",
       "<style scoped>\n",
       "    .dataframe tbody tr th:only-of-type {\n",
       "        vertical-align: middle;\n",
       "    }\n",
       "\n",
       "    .dataframe tbody tr th {\n",
       "        vertical-align: top;\n",
       "    }\n",
       "\n",
       "    .dataframe thead th {\n",
       "        text-align: right;\n",
       "    }\n",
       "</style>\n",
       "<table border=\"1\" class=\"dataframe\">\n",
       "  <thead>\n",
       "    <tr style=\"text-align: right;\">\n",
       "      <th></th>\n",
       "      <th>acousticness</th>\n",
       "      <th>danceability</th>\n",
       "      <th>energy</th>\n",
       "      <th>id</th>\n",
       "      <th>instrumentalness</th>\n",
       "      <th>key</th>\n",
       "      <th>liveness</th>\n",
       "      <th>loudness</th>\n",
       "      <th>mode</th>\n",
       "      <th>speechiness</th>\n",
       "      <th>tempo</th>\n",
       "      <th>valence</th>\n",
       "    </tr>\n",
       "  </thead>\n",
       "  <tbody>\n",
       "    <tr>\n",
       "      <th>0</th>\n",
       "      <td>0.411</td>\n",
       "      <td>0.666</td>\n",
       "      <td>0.859</td>\n",
       "      <td>3mf4l3O9xn8JukaUETnZFt</td>\n",
       "      <td>0.000000</td>\n",
       "      <td>8</td>\n",
       "      <td>0.3140</td>\n",
       "      <td>-3.836</td>\n",
       "      <td>1</td>\n",
       "      <td>0.0304</td>\n",
       "      <td>156.990</td>\n",
       "      <td>0.933</td>\n",
       "    </tr>\n",
       "    <tr>\n",
       "      <th>1</th>\n",
       "      <td>0.564</td>\n",
       "      <td>0.707</td>\n",
       "      <td>0.851</td>\n",
       "      <td>48cryfhSXQGrWyhnmXEOEg</td>\n",
       "      <td>0.000094</td>\n",
       "      <td>7</td>\n",
       "      <td>0.3300</td>\n",
       "      <td>-5.008</td>\n",
       "      <td>0</td>\n",
       "      <td>0.0322</td>\n",
       "      <td>153.929</td>\n",
       "      <td>0.871</td>\n",
       "    </tr>\n",
       "    <tr>\n",
       "      <th>2</th>\n",
       "      <td>0.801</td>\n",
       "      <td>0.299</td>\n",
       "      <td>0.159</td>\n",
       "      <td>0m52ru9yO561lgoMHyclcC</td>\n",
       "      <td>0.000000</td>\n",
       "      <td>11</td>\n",
       "      <td>0.0611</td>\n",
       "      <td>-16.540</td>\n",
       "      <td>0</td>\n",
       "      <td>0.0357</td>\n",
       "      <td>183.227</td>\n",
       "      <td>0.180</td>\n",
       "    </tr>\n",
       "  </tbody>\n",
       "</table>\n",
       "</div>"
      ],
      "text/plain": [
       "   acousticness  danceability  energy                      id  \\\n",
       "0         0.411         0.666   0.859  3mf4l3O9xn8JukaUETnZFt   \n",
       "1         0.564         0.707   0.851  48cryfhSXQGrWyhnmXEOEg   \n",
       "2         0.801         0.299   0.159  0m52ru9yO561lgoMHyclcC   \n",
       "\n",
       "   instrumentalness  key  liveness  loudness  mode  speechiness    tempo  \\\n",
       "0          0.000000    8    0.3140    -3.836     1       0.0304  156.990   \n",
       "1          0.000094    7    0.3300    -5.008     0       0.0322  153.929   \n",
       "2          0.000000   11    0.0611   -16.540     0       0.0357  183.227   \n",
       "\n",
       "   valence  \n",
       "0    0.933  \n",
       "1    0.871  \n",
       "2    0.180  "
      ]
     },
     "execution_count": 5,
     "metadata": {},
     "output_type": "execute_result"
    }
   ],
   "source": [
    "features = session.get_favorite_songs(features = True)\n",
    "df_features = pd.DataFrame(features)\n",
    "\n",
    "print(df_features.shape)\n",
    "df_features.head(3)"
   ]
  },
  {
   "cell_type": "markdown",
   "metadata": {},
   "source": [
    "Juntar os datasets"
   ]
  },
  {
   "cell_type": "code",
   "execution_count": 31,
   "metadata": {},
   "outputs": [
    {
     "name": "stdout",
     "output_type": "stream",
     "text": [
      "(6500, 19)\n"
     ]
    },
    {
     "data": {
      "text/html": [
       "<div>\n",
       "<style scoped>\n",
       "    .dataframe tbody tr th:only-of-type {\n",
       "        vertical-align: middle;\n",
       "    }\n",
       "\n",
       "    .dataframe tbody tr th {\n",
       "        vertical-align: top;\n",
       "    }\n",
       "\n",
       "    .dataframe thead th {\n",
       "        text-align: right;\n",
       "    }\n",
       "</style>\n",
       "<table border=\"1\" class=\"dataframe\">\n",
       "  <thead>\n",
       "    <tr style=\"text-align: right;\">\n",
       "      <th></th>\n",
       "      <th>album</th>\n",
       "      <th>album_id</th>\n",
       "      <th>artist</th>\n",
       "      <th>artist_id</th>\n",
       "      <th>duration_ms</th>\n",
       "      <th>id</th>\n",
       "      <th>name</th>\n",
       "      <th>popularity</th>\n",
       "      <th>acousticness</th>\n",
       "      <th>danceability</th>\n",
       "      <th>energy</th>\n",
       "      <th>instrumentalness</th>\n",
       "      <th>key</th>\n",
       "      <th>liveness</th>\n",
       "      <th>loudness</th>\n",
       "      <th>mode</th>\n",
       "      <th>speechiness</th>\n",
       "      <th>tempo</th>\n",
       "      <th>valence</th>\n",
       "    </tr>\n",
       "  </thead>\n",
       "  <tbody>\n",
       "    <tr>\n",
       "      <th>0</th>\n",
       "      <td>Made In Studio 2</td>\n",
       "      <td>1VE4gyyX0wEGJEnzZ4bvbM</td>\n",
       "      <td>Márcia Fellipe</td>\n",
       "      <td>3OxZ4asD88P1lJJmLcXz4K</td>\n",
       "      <td>137826</td>\n",
       "      <td>3mf4l3O9xn8JukaUETnZFt</td>\n",
       "      <td>Chá De Sofrimento</td>\n",
       "      <td>37</td>\n",
       "      <td>0.411</td>\n",
       "      <td>0.666</td>\n",
       "      <td>0.859</td>\n",
       "      <td>0.000000</td>\n",
       "      <td>8</td>\n",
       "      <td>0.3140</td>\n",
       "      <td>-3.836</td>\n",
       "      <td>1</td>\n",
       "      <td>0.0304</td>\n",
       "      <td>156.990</td>\n",
       "      <td>0.933</td>\n",
       "    </tr>\n",
       "    <tr>\n",
       "      <th>1</th>\n",
       "      <td>Made In Studio 2</td>\n",
       "      <td>1VE4gyyX0wEGJEnzZ4bvbM</td>\n",
       "      <td>Márcia Fellipe</td>\n",
       "      <td>3OxZ4asD88P1lJJmLcXz4K</td>\n",
       "      <td>145883</td>\n",
       "      <td>48cryfhSXQGrWyhnmXEOEg</td>\n",
       "      <td>Nota 1.000</td>\n",
       "      <td>38</td>\n",
       "      <td>0.564</td>\n",
       "      <td>0.707</td>\n",
       "      <td>0.851</td>\n",
       "      <td>0.000094</td>\n",
       "      <td>7</td>\n",
       "      <td>0.3300</td>\n",
       "      <td>-5.008</td>\n",
       "      <td>0</td>\n",
       "      <td>0.0322</td>\n",
       "      <td>153.929</td>\n",
       "      <td>0.871</td>\n",
       "    </tr>\n",
       "    <tr>\n",
       "      <th>2</th>\n",
       "      <td>Deixa</td>\n",
       "      <td>7wj45LWz6uIcyBd8iqdlZ5</td>\n",
       "      <td>Bruna Magalhães</td>\n",
       "      <td>108y6vREhgAIvgvm1Cq54p</td>\n",
       "      <td>207209</td>\n",
       "      <td>0m52ru9yO561lgoMHyclcC</td>\n",
       "      <td>Deixa</td>\n",
       "      <td>0</td>\n",
       "      <td>0.801</td>\n",
       "      <td>0.299</td>\n",
       "      <td>0.159</td>\n",
       "      <td>0.000000</td>\n",
       "      <td>11</td>\n",
       "      <td>0.0611</td>\n",
       "      <td>-16.540</td>\n",
       "      <td>0</td>\n",
       "      <td>0.0357</td>\n",
       "      <td>183.227</td>\n",
       "      <td>0.180</td>\n",
       "    </tr>\n",
       "  </tbody>\n",
       "</table>\n",
       "</div>"
      ],
      "text/plain": [
       "              album                album_id           artist  \\\n",
       "0  Made In Studio 2  1VE4gyyX0wEGJEnzZ4bvbM   Márcia Fellipe   \n",
       "1  Made In Studio 2  1VE4gyyX0wEGJEnzZ4bvbM   Márcia Fellipe   \n",
       "2             Deixa  7wj45LWz6uIcyBd8iqdlZ5  Bruna Magalhães   \n",
       "\n",
       "                artist_id  duration_ms                      id  \\\n",
       "0  3OxZ4asD88P1lJJmLcXz4K       137826  3mf4l3O9xn8JukaUETnZFt   \n",
       "1  3OxZ4asD88P1lJJmLcXz4K       145883  48cryfhSXQGrWyhnmXEOEg   \n",
       "2  108y6vREhgAIvgvm1Cq54p       207209  0m52ru9yO561lgoMHyclcC   \n",
       "\n",
       "                name  popularity  acousticness  danceability  energy  \\\n",
       "0  Chá De Sofrimento          37         0.411         0.666   0.859   \n",
       "1         Nota 1.000          38         0.564         0.707   0.851   \n",
       "2              Deixa           0         0.801         0.299   0.159   \n",
       "\n",
       "   instrumentalness  key  liveness  loudness  mode  speechiness    tempo  \\\n",
       "0          0.000000    8    0.3140    -3.836     1       0.0304  156.990   \n",
       "1          0.000094    7    0.3300    -5.008     0       0.0322  153.929   \n",
       "2          0.000000   11    0.0611   -16.540     0       0.0357  183.227   \n",
       "\n",
       "   valence  \n",
       "0    0.933  \n",
       "1    0.871  \n",
       "2    0.180  "
      ]
     },
     "execution_count": 31,
     "metadata": {},
     "output_type": "execute_result"
    }
   ],
   "source": [
    "songs_features = df_songs.merge(df_features, how='inner', on='id')\n",
    "\n",
    "print(songs_features.shape)\n",
    "songs_features.head(3)"
   ]
  },
  {
   "cell_type": "markdown",
   "metadata": {},
   "source": [
    "Verificando integridade dos dados"
   ]
  },
  {
   "cell_type": "code",
   "execution_count": 39,
   "metadata": {},
   "outputs": [
    {
     "data": {
      "text/plain": [
       "<matplotlib.axes._subplots.AxesSubplot at 0x1e9c1819470>"
      ]
     },
     "execution_count": 39,
     "metadata": {},
     "output_type": "execute_result"
    },
    {
     "data": {
      "image/png": "[encoded data removed]",
      "text/plain": [
       "<Figure size 1800x720 with 2 Axes>"
      ]
     },
     "metadata": {},
     "output_type": "display_data"
    }
   ],
   "source": [
    "msno.matrix(songs_features)"
   ]
  },
  {
   "cell_type": "markdown",
   "metadata": {},
   "source": [
    "### Coletando as músicas das playlists dos usuários\n",
    "\n",
    "Pegar as músicas e features"
   ]
  },
  {
   "cell_type": "code",
   "execution_count": 44,
   "metadata": {},
   "outputs": [
    {
     "ename": "SpotifyException",
     "evalue": "http status: 401, code:-1 - https://api.spotify.com/v1/users/ilikemiojo/playlists?limit=10&offset=0:\n The access token expired",
     "output_type": "error",
     "traceback": [
      "\u001b[1;31m---------------------------------------------------------------------------\u001b[0m",
      "\u001b[1;31mHTTPError\u001b[0m                                 Traceback (most recent call last)",
      "\u001b[1;32m~\\Anaconda3\\lib\\site-packages\\spotipy-2.4.4-py3.6.egg\\spotipy\\client.py\u001b[0m in \u001b[0;36m_internal_call\u001b[1;34m(self, method, url, payload, params)\u001b[0m\n\u001b[0;32m    118\u001b[0m         \u001b[1;32mtry\u001b[0m\u001b[1;33m:\u001b[0m\u001b[1;33m\u001b[0m\u001b[0m\n\u001b[1;32m--> 119\u001b[1;33m             \u001b[0mr\u001b[0m\u001b[1;33m.\u001b[0m\u001b[0mraise_for_status\u001b[0m\u001b[1;33m(\u001b[0m\u001b[1;33m)\u001b[0m\u001b[1;33m\u001b[0m\u001b[0m\n\u001b[0m\u001b[0;32m    120\u001b[0m         \u001b[1;32mexcept\u001b[0m\u001b[1;33m:\u001b[0m\u001b[1;33m\u001b[0m\u001b[0m\n",
      "\u001b[1;32m~\\Anaconda3\\lib\\site-packages\\requests\\models.py\u001b[0m in \u001b[0;36mraise_for_status\u001b[1;34m(self)\u001b[0m\n\u001b[0;32m    934\u001b[0m         \u001b[1;32mif\u001b[0m \u001b[0mhttp_error_msg\u001b[0m\u001b[1;33m:\u001b[0m\u001b[1;33m\u001b[0m\u001b[0m\n\u001b[1;32m--> 935\u001b[1;33m             \u001b[1;32mraise\u001b[0m \u001b[0mHTTPError\u001b[0m\u001b[1;33m(\u001b[0m\u001b[0mhttp_error_msg\u001b[0m\u001b[1;33m,\u001b[0m \u001b[0mresponse\u001b[0m\u001b[1;33m=\u001b[0m\u001b[0mself\u001b[0m\u001b[1;33m)\u001b[0m\u001b[1;33m\u001b[0m\u001b[0m\n\u001b[0m\u001b[0;32m    936\u001b[0m \u001b[1;33m\u001b[0m\u001b[0m\n",
      "\u001b[1;31mHTTPError\u001b[0m: 401 Client Error: Unauthorized for url: https://api.spotify.com/v1/users/ilikemiojo/playlists?limit=10&offset=0",
      "\nDuring handling of the above exception, another exception occurred:\n",
      "\u001b[1;31mSpotifyException\u001b[0m                          Traceback (most recent call last)",
      "\u001b[1;32m<ipython-input-44-691450d938d4>\u001b[0m in \u001b[0;36m<module>\u001b[1;34m()\u001b[0m\n\u001b[1;32m----> 1\u001b[1;33m \u001b[0mplaylists_songs\u001b[0m \u001b[1;33m=\u001b[0m \u001b[0msession\u001b[0m\u001b[1;33m.\u001b[0m\u001b[0mget_user_playlists\u001b[0m\u001b[1;33m(\u001b[0m\u001b[0muser\u001b[0m\u001b[1;33m)\u001b[0m\u001b[1;33m\u001b[0m\u001b[0m\n\u001b[0m\u001b[0;32m      2\u001b[0m \u001b[0mplaylists_features\u001b[0m \u001b[1;33m=\u001b[0m \u001b[0msession\u001b[0m\u001b[1;33m.\u001b[0m\u001b[0mget_user_playlists\u001b[0m\u001b[1;33m(\u001b[0m\u001b[0muser\u001b[0m\u001b[1;33m,\u001b[0m \u001b[0mfeatures\u001b[0m\u001b[1;33m=\u001b[0m\u001b[1;32mTrue\u001b[0m\u001b[1;33m)\u001b[0m\u001b[1;33m\u001b[0m\u001b[0m\n\u001b[0;32m      3\u001b[0m \u001b[1;33m\u001b[0m\u001b[0m\n\u001b[0;32m      4\u001b[0m \u001b[0mprint\u001b[0m\u001b[1;33m(\u001b[0m\u001b[1;34m\"Songs\"\u001b[0m\u001b[1;33m)\u001b[0m\u001b[1;33m\u001b[0m\u001b[0m\n\u001b[0;32m      5\u001b[0m \u001b[0mdisplay\u001b[0m\u001b[1;33m(\u001b[0m\u001b[0mplaylists_songs\u001b[0m\u001b[1;33m)\u001b[0m\u001b[1;33m\u001b[0m\u001b[0m\n",
      "\u001b[1;32m~\\OneDrive\\Área de Trabalho\\Projeto TCC\\diversify\\session.py\u001b[0m in \u001b[0;36mget_user_playlists\u001b[1;34m(self, userid, limit, features, flat)\u001b[0m\n\u001b[0;32m    216\u001b[0m \u001b[1;33m\u001b[0m\u001b[0m\n\u001b[0;32m    217\u001b[0m         \u001b[1;31m# Returns a Spotify object (paging object) with playlists\u001b[0m\u001b[1;33m\u001b[0m\u001b[1;33m\u001b[0m\u001b[0m\n\u001b[1;32m--> 218\u001b[1;33m         \u001b[0mplaylist_query\u001b[0m \u001b[1;33m=\u001b[0m \u001b[0mself\u001b[0m\u001b[1;33m.\u001b[0m\u001b[0m_session\u001b[0m\u001b[1;33m.\u001b[0m\u001b[0muser_playlists\u001b[0m\u001b[1;33m(\u001b[0m\u001b[0muserid\u001b[0m\u001b[1;33m,\u001b[0m \u001b[0mlocal_limit\u001b[0m\u001b[1;33m)\u001b[0m\u001b[1;33m\u001b[0m\u001b[0m\n\u001b[0m\u001b[0;32m    219\u001b[0m \u001b[1;33m\u001b[0m\u001b[0m\n\u001b[0;32m    220\u001b[0m         \u001b[1;32mdef\u001b[0m \u001b[0m_get_all_playlists\u001b[0m\u001b[1;33m(\u001b[0m\u001b[0mplaylist_paging\u001b[0m\u001b[1;33m)\u001b[0m\u001b[1;33m:\u001b[0m\u001b[1;33m\u001b[0m\u001b[0m\n",
      "\u001b[1;32m~\\Anaconda3\\lib\\site-packages\\spotipy-2.4.4-py3.6.egg\\spotipy\\client.py\u001b[0m in \u001b[0;36muser_playlists\u001b[1;34m(self, user, limit, offset)\u001b[0m\n\u001b[0;32m    364\u001b[0m         '''\n\u001b[0;32m    365\u001b[0m         return self._get(\"users/%s/playlists\" % user, limit=limit,\n\u001b[1;32m--> 366\u001b[1;33m                          offset=offset)\n\u001b[0m\u001b[0;32m    367\u001b[0m \u001b[1;33m\u001b[0m\u001b[0m\n\u001b[0;32m    368\u001b[0m     \u001b[1;32mdef\u001b[0m \u001b[0muser_playlist\u001b[0m\u001b[1;33m(\u001b[0m\u001b[0mself\u001b[0m\u001b[1;33m,\u001b[0m \u001b[0muser\u001b[0m\u001b[1;33m,\u001b[0m \u001b[0mplaylist_id\u001b[0m\u001b[1;33m=\u001b[0m\u001b[1;32mNone\u001b[0m\u001b[1;33m,\u001b[0m \u001b[0mfields\u001b[0m\u001b[1;33m=\u001b[0m\u001b[1;32mNone\u001b[0m\u001b[1;33m)\u001b[0m\u001b[1;33m:\u001b[0m\u001b[1;33m\u001b[0m\u001b[0m\n",
      "\u001b[1;32m~\\Anaconda3\\lib\\site-packages\\spotipy-2.4.4-py3.6.egg\\spotipy\\client.py\u001b[0m in \u001b[0;36m_get\u001b[1;34m(self, url, args, payload, **kwargs)\u001b[0m\n\u001b[0;32m    144\u001b[0m         \u001b[1;32mwhile\u001b[0m \u001b[0mretries\u001b[0m \u001b[1;33m>\u001b[0m \u001b[1;36m0\u001b[0m\u001b[1;33m:\u001b[0m\u001b[1;33m\u001b[0m\u001b[0m\n\u001b[0;32m    145\u001b[0m             \u001b[1;32mtry\u001b[0m\u001b[1;33m:\u001b[0m\u001b[1;33m\u001b[0m\u001b[0m\n\u001b[1;32m--> 146\u001b[1;33m                 \u001b[1;32mreturn\u001b[0m \u001b[0mself\u001b[0m\u001b[1;33m.\u001b[0m\u001b[0m_internal_call\u001b[0m\u001b[1;33m(\u001b[0m\u001b[1;34m'GET'\u001b[0m\u001b[1;33m,\u001b[0m \u001b[0murl\u001b[0m\u001b[1;33m,\u001b[0m \u001b[0mpayload\u001b[0m\u001b[1;33m,\u001b[0m \u001b[0mkwargs\u001b[0m\u001b[1;33m)\u001b[0m\u001b[1;33m\u001b[0m\u001b[0m\n\u001b[0m\u001b[0;32m    147\u001b[0m             \u001b[1;32mexcept\u001b[0m \u001b[0mSpotifyException\u001b[0m \u001b[1;32mas\u001b[0m \u001b[0me\u001b[0m\u001b[1;33m:\u001b[0m\u001b[1;33m\u001b[0m\u001b[0m\n\u001b[0;32m    148\u001b[0m                 \u001b[0mretries\u001b[0m \u001b[1;33m-=\u001b[0m \u001b[1;36m1\u001b[0m\u001b[1;33m\u001b[0m\u001b[0m\n",
      "\u001b[1;32m~\\Anaconda3\\lib\\site-packages\\spotipy-2.4.4-py3.6.egg\\spotipy\\client.py\u001b[0m in \u001b[0;36m_internal_call\u001b[1;34m(self, method, url, payload, params)\u001b[0m\n\u001b[0;32m    122\u001b[0m                 raise SpotifyException(r.status_code,\n\u001b[0;32m    123\u001b[0m                     \u001b[1;33m-\u001b[0m\u001b[1;36m1\u001b[0m\u001b[1;33m,\u001b[0m \u001b[1;34m'%s:\\n %s'\u001b[0m \u001b[1;33m%\u001b[0m \u001b[1;33m(\u001b[0m\u001b[0mr\u001b[0m\u001b[1;33m.\u001b[0m\u001b[0murl\u001b[0m\u001b[1;33m,\u001b[0m \u001b[0mr\u001b[0m\u001b[1;33m.\u001b[0m\u001b[0mjson\u001b[0m\u001b[1;33m(\u001b[0m\u001b[1;33m)\u001b[0m\u001b[1;33m[\u001b[0m\u001b[1;34m'error'\u001b[0m\u001b[1;33m]\u001b[0m\u001b[1;33m[\u001b[0m\u001b[1;34m'message'\u001b[0m\u001b[1;33m]\u001b[0m\u001b[1;33m)\u001b[0m\u001b[1;33m,\u001b[0m\u001b[1;33m\u001b[0m\u001b[0m\n\u001b[1;32m--> 124\u001b[1;33m                     headers=r.headers)\n\u001b[0m\u001b[0;32m    125\u001b[0m             \u001b[1;32melse\u001b[0m\u001b[1;33m:\u001b[0m\u001b[1;33m\u001b[0m\u001b[0m\n\u001b[0;32m    126\u001b[0m                 raise SpotifyException(r.status_code,\n",
      "\u001b[1;31mSpotifyException\u001b[0m: http status: 401, code:-1 - https://api.spotify.com/v1/users/ilikemiojo/playlists?limit=10&offset=0:\n The access token expired"
     ]
    }
   ],
   "source": [
    "playlists_songs = session.get_user_playlists(user)\n",
    "playlists_features = session.get_user_playlists(user, features=True)\n",
    "\n",
    "print(\"Songs\")\n",
    "display(playlists_songs)\n",
    "\n",
    "print(\"Features\")\n",
    "display(playlists_features)"
   ]
  },
  {
   "cell_type": "markdown",
   "metadata": {},
   "source": [
    "Retirando apenas as músicas dos dicionários\n",
    "\n",
    "- Songs"
   ]
  },
  {
   "cell_type": "code",
   "execution_count": 28,
   "metadata": {},
   "outputs": [
    {
     "name": "stdout",
     "output_type": "stream",
     "text": [
      "(343, 8)\n"
     ]
    },
    {
     "data": {
      "text/html": [
       "<div>\n",
       "<style scoped>\n",
       "    .dataframe tbody tr th:only-of-type {\n",
       "        vertical-align: middle;\n",
       "    }\n",
       "\n",
       "    .dataframe tbody tr th {\n",
       "        vertical-align: top;\n",
       "    }\n",
       "\n",
       "    .dataframe thead th {\n",
       "        text-align: right;\n",
       "    }\n",
       "</style>\n",
       "<table border=\"1\" class=\"dataframe\">\n",
       "  <thead>\n",
       "    <tr style=\"text-align: right;\">\n",
       "      <th></th>\n",
       "      <th>album</th>\n",
       "      <th>album_id</th>\n",
       "      <th>artist</th>\n",
       "      <th>artist_id</th>\n",
       "      <th>duration_ms</th>\n",
       "      <th>id</th>\n",
       "      <th>name</th>\n",
       "      <th>popularity</th>\n",
       "    </tr>\n",
       "  </thead>\n",
       "  <tbody>\n",
       "    <tr>\n",
       "      <th>0</th>\n",
       "      <td>Self-Titled</td>\n",
       "      <td>7jhH139X9JCMwKlW0SWwLY</td>\n",
       "      <td>It Looks Sad.</td>\n",
       "      <td>24M8W1AklCxyWTKjrJZDQ8</td>\n",
       "      <td>228000</td>\n",
       "      <td>71QKtFaECvOxpvHk105FMw</td>\n",
       "      <td>Ocean</td>\n",
       "      <td>38</td>\n",
       "    </tr>\n",
       "    <tr>\n",
       "      <th>1</th>\n",
       "      <td>Kaiju</td>\n",
       "      <td>0Z0fNb1sXiQ7oULwQYZMUA</td>\n",
       "      <td>It Looks Sad.</td>\n",
       "      <td>24M8W1AklCxyWTKjrJZDQ8</td>\n",
       "      <td>230653</td>\n",
       "      <td>3GHB3jMQPJ6Q97JKbZCowT</td>\n",
       "      <td>Nagoya</td>\n",
       "      <td>46</td>\n",
       "    </tr>\n",
       "    <tr>\n",
       "      <th>2</th>\n",
       "      <td>Sweet FA</td>\n",
       "      <td>1lhF5c8Q9bzYNwGFwQgYnP</td>\n",
       "      <td>Peach Pit</td>\n",
       "      <td>6fC2AcsQtd9h4BWELbbire</td>\n",
       "      <td>287080</td>\n",
       "      <td>0ZK8TGOsngrstVPsnrHbK1</td>\n",
       "      <td>Peach Pit</td>\n",
       "      <td>68</td>\n",
       "    </tr>\n",
       "  </tbody>\n",
       "</table>\n",
       "</div>"
      ],
      "text/plain": [
       "         album                album_id         artist               artist_id  \\\n",
       "0  Self-Titled  7jhH139X9JCMwKlW0SWwLY  It Looks Sad.  24M8W1AklCxyWTKjrJZDQ8   \n",
       "1        Kaiju  0Z0fNb1sXiQ7oULwQYZMUA  It Looks Sad.  24M8W1AklCxyWTKjrJZDQ8   \n",
       "2     Sweet FA  1lhF5c8Q9bzYNwGFwQgYnP      Peach Pit  6fC2AcsQtd9h4BWELbbire   \n",
       "\n",
       "   duration_ms                      id       name  popularity  \n",
       "0       228000  71QKtFaECvOxpvHk105FMw      Ocean          38  \n",
       "1       230653  3GHB3jMQPJ6Q97JKbZCowT     Nagoya          46  \n",
       "2       287080  0ZK8TGOsngrstVPsnrHbK1  Peach Pit          68  "
      ]
     },
     "execution_count": 28,
     "metadata": {},
     "output_type": "execute_result"
    }
   ],
   "source": [
    "user_songs = [song for playlist, songs in playlists_songs for song in songs]\n",
    "df_user_songs = pd.DataFrame(user_songs).drop_duplicates(subset='id')\n",
    "\n",
    "print(df_user_songs.shape)\n",
    "df_user_songs.head(3)"
   ]
  },
  {
   "cell_type": "markdown",
   "metadata": {},
   "source": [
    "- Features"
   ]
  },
  {
   "cell_type": "code",
   "execution_count": 29,
   "metadata": {},
   "outputs": [
    {
     "name": "stdout",
     "output_type": "stream",
     "text": [
      "(343, 12)\n"
     ]
    },
    {
     "data": {
      "text/html": [
       "<div>\n",
       "<style scoped>\n",
       "    .dataframe tbody tr th:only-of-type {\n",
       "        vertical-align: middle;\n",
       "    }\n",
       "\n",
       "    .dataframe tbody tr th {\n",
       "        vertical-align: top;\n",
       "    }\n",
       "\n",
       "    .dataframe thead th {\n",
       "        text-align: right;\n",
       "    }\n",
       "</style>\n",
       "<table border=\"1\" class=\"dataframe\">\n",
       "  <thead>\n",
       "    <tr style=\"text-align: right;\">\n",
       "      <th></th>\n",
       "      <th>acousticness</th>\n",
       "      <th>danceability</th>\n",
       "      <th>energy</th>\n",
       "      <th>id</th>\n",
       "      <th>instrumentalness</th>\n",
       "      <th>key</th>\n",
       "      <th>liveness</th>\n",
       "      <th>loudness</th>\n",
       "      <th>mode</th>\n",
       "      <th>speechiness</th>\n",
       "      <th>tempo</th>\n",
       "      <th>valence</th>\n",
       "    </tr>\n",
       "  </thead>\n",
       "  <tbody>\n",
       "    <tr>\n",
       "      <th>0</th>\n",
       "      <td>0.002000</td>\n",
       "      <td>0.555</td>\n",
       "      <td>0.723</td>\n",
       "      <td>71QKtFaECvOxpvHk105FMw</td>\n",
       "      <td>0.00378</td>\n",
       "      <td>9</td>\n",
       "      <td>0.0589</td>\n",
       "      <td>-6.485</td>\n",
       "      <td>1</td>\n",
       "      <td>0.0420</td>\n",
       "      <td>122.003</td>\n",
       "      <td>0.348</td>\n",
       "    </tr>\n",
       "    <tr>\n",
       "      <th>1</th>\n",
       "      <td>0.000725</td>\n",
       "      <td>0.541</td>\n",
       "      <td>0.569</td>\n",
       "      <td>3GHB3jMQPJ6Q97JKbZCowT</td>\n",
       "      <td>0.20600</td>\n",
       "      <td>7</td>\n",
       "      <td>0.0873</td>\n",
       "      <td>-8.497</td>\n",
       "      <td>1</td>\n",
       "      <td>0.0251</td>\n",
       "      <td>150.178</td>\n",
       "      <td>0.215</td>\n",
       "    </tr>\n",
       "    <tr>\n",
       "      <th>2</th>\n",
       "      <td>0.003220</td>\n",
       "      <td>0.515</td>\n",
       "      <td>0.804</td>\n",
       "      <td>0ZK8TGOsngrstVPsnrHbK1</td>\n",
       "      <td>0.00229</td>\n",
       "      <td>6</td>\n",
       "      <td>0.1490</td>\n",
       "      <td>-5.345</td>\n",
       "      <td>0</td>\n",
       "      <td>0.0398</td>\n",
       "      <td>123.969</td>\n",
       "      <td>0.298</td>\n",
       "    </tr>\n",
       "  </tbody>\n",
       "</table>\n",
       "</div>"
      ],
      "text/plain": [
       "   acousticness  danceability  energy                      id  \\\n",
       "0      0.002000         0.555   0.723  71QKtFaECvOxpvHk105FMw   \n",
       "1      0.000725         0.541   0.569  3GHB3jMQPJ6Q97JKbZCowT   \n",
       "2      0.003220         0.515   0.804  0ZK8TGOsngrstVPsnrHbK1   \n",
       "\n",
       "   instrumentalness  key  liveness  loudness  mode  speechiness    tempo  \\\n",
       "0           0.00378    9    0.0589    -6.485     1       0.0420  122.003   \n",
       "1           0.20600    7    0.0873    -8.497     1       0.0251  150.178   \n",
       "2           0.00229    6    0.1490    -5.345     0       0.0398  123.969   \n",
       "\n",
       "   valence  \n",
       "0    0.348  \n",
       "1    0.215  \n",
       "2    0.298  "
      ]
     },
     "execution_count": 29,
     "metadata": {},
     "output_type": "execute_result"
    }
   ],
   "source": [
    "user_features = [song for playlist, songs in playlists_features for song in songs]\n",
    "df_user_features = pd.DataFrame(user_features).drop_duplicates(subset='id')\n",
    "\n",
    "print(df_user_features.shape)\n",
    "df_user_features.head(3)"
   ]
  },
  {
   "cell_type": "markdown",
   "metadata": {},
   "source": [
    "Juntando os datasets acima"
   ]
  },
  {
   "cell_type": "code",
   "execution_count": 33,
   "metadata": {},
   "outputs": [
    {
     "name": "stdout",
     "output_type": "stream",
     "text": [
      "(343, 19)\n"
     ]
    },
    {
     "data": {
      "text/html": [
       "<div>\n",
       "<style scoped>\n",
       "    .dataframe tbody tr th:only-of-type {\n",
       "        vertical-align: middle;\n",
       "    }\n",
       "\n",
       "    .dataframe tbody tr th {\n",
       "        vertical-align: top;\n",
       "    }\n",
       "\n",
       "    .dataframe thead th {\n",
       "        text-align: right;\n",
       "    }\n",
       "</style>\n",
       "<table border=\"1\" class=\"dataframe\">\n",
       "  <thead>\n",
       "    <tr style=\"text-align: right;\">\n",
       "      <th></th>\n",
       "      <th>album</th>\n",
       "      <th>album_id</th>\n",
       "      <th>artist</th>\n",
       "      <th>artist_id</th>\n",
       "      <th>duration_ms</th>\n",
       "      <th>id</th>\n",
       "      <th>name</th>\n",
       "      <th>popularity</th>\n",
       "      <th>acousticness</th>\n",
       "      <th>danceability</th>\n",
       "      <th>energy</th>\n",
       "      <th>instrumentalness</th>\n",
       "      <th>key</th>\n",
       "      <th>liveness</th>\n",
       "      <th>loudness</th>\n",
       "      <th>mode</th>\n",
       "      <th>speechiness</th>\n",
       "      <th>tempo</th>\n",
       "      <th>valence</th>\n",
       "    </tr>\n",
       "  </thead>\n",
       "  <tbody>\n",
       "    <tr>\n",
       "      <th>0</th>\n",
       "      <td>Self-Titled</td>\n",
       "      <td>7jhH139X9JCMwKlW0SWwLY</td>\n",
       "      <td>It Looks Sad.</td>\n",
       "      <td>24M8W1AklCxyWTKjrJZDQ8</td>\n",
       "      <td>228000</td>\n",
       "      <td>71QKtFaECvOxpvHk105FMw</td>\n",
       "      <td>Ocean</td>\n",
       "      <td>38</td>\n",
       "      <td>0.002000</td>\n",
       "      <td>0.555</td>\n",
       "      <td>0.723</td>\n",
       "      <td>0.00378</td>\n",
       "      <td>9</td>\n",
       "      <td>0.0589</td>\n",
       "      <td>-6.485</td>\n",
       "      <td>1</td>\n",
       "      <td>0.0420</td>\n",
       "      <td>122.003</td>\n",
       "      <td>0.348</td>\n",
       "    </tr>\n",
       "    <tr>\n",
       "      <th>1</th>\n",
       "      <td>Kaiju</td>\n",
       "      <td>0Z0fNb1sXiQ7oULwQYZMUA</td>\n",
       "      <td>It Looks Sad.</td>\n",
       "      <td>24M8W1AklCxyWTKjrJZDQ8</td>\n",
       "      <td>230653</td>\n",
       "      <td>3GHB3jMQPJ6Q97JKbZCowT</td>\n",
       "      <td>Nagoya</td>\n",
       "      <td>46</td>\n",
       "      <td>0.000725</td>\n",
       "      <td>0.541</td>\n",
       "      <td>0.569</td>\n",
       "      <td>0.20600</td>\n",
       "      <td>7</td>\n",
       "      <td>0.0873</td>\n",
       "      <td>-8.497</td>\n",
       "      <td>1</td>\n",
       "      <td>0.0251</td>\n",
       "      <td>150.178</td>\n",
       "      <td>0.215</td>\n",
       "    </tr>\n",
       "    <tr>\n",
       "      <th>2</th>\n",
       "      <td>Sweet FA</td>\n",
       "      <td>1lhF5c8Q9bzYNwGFwQgYnP</td>\n",
       "      <td>Peach Pit</td>\n",
       "      <td>6fC2AcsQtd9h4BWELbbire</td>\n",
       "      <td>287080</td>\n",
       "      <td>0ZK8TGOsngrstVPsnrHbK1</td>\n",
       "      <td>Peach Pit</td>\n",
       "      <td>68</td>\n",
       "      <td>0.003220</td>\n",
       "      <td>0.515</td>\n",
       "      <td>0.804</td>\n",
       "      <td>0.00229</td>\n",
       "      <td>6</td>\n",
       "      <td>0.1490</td>\n",
       "      <td>-5.345</td>\n",
       "      <td>0</td>\n",
       "      <td>0.0398</td>\n",
       "      <td>123.969</td>\n",
       "      <td>0.298</td>\n",
       "    </tr>\n",
       "  </tbody>\n",
       "</table>\n",
       "</div>"
      ],
      "text/plain": [
       "         album                album_id         artist               artist_id  \\\n",
       "0  Self-Titled  7jhH139X9JCMwKlW0SWwLY  It Looks Sad.  24M8W1AklCxyWTKjrJZDQ8   \n",
       "1        Kaiju  0Z0fNb1sXiQ7oULwQYZMUA  It Looks Sad.  24M8W1AklCxyWTKjrJZDQ8   \n",
       "2     Sweet FA  1lhF5c8Q9bzYNwGFwQgYnP      Peach Pit  6fC2AcsQtd9h4BWELbbire   \n",
       "\n",
       "   duration_ms                      id       name  popularity  acousticness  \\\n",
       "0       228000  71QKtFaECvOxpvHk105FMw      Ocean          38      0.002000   \n",
       "1       230653  3GHB3jMQPJ6Q97JKbZCowT     Nagoya          46      0.000725   \n",
       "2       287080  0ZK8TGOsngrstVPsnrHbK1  Peach Pit          68      0.003220   \n",
       "\n",
       "   danceability  energy  instrumentalness  key  liveness  loudness  mode  \\\n",
       "0         0.555   0.723           0.00378    9    0.0589    -6.485     1   \n",
       "1         0.541   0.569           0.20600    7    0.0873    -8.497     1   \n",
       "2         0.515   0.804           0.00229    6    0.1490    -5.345     0   \n",
       "\n",
       "   speechiness    tempo  valence  \n",
       "0       0.0420  122.003    0.348  \n",
       "1       0.0251  150.178    0.215  \n",
       "2       0.0398  123.969    0.298  "
      ]
     },
     "execution_count": 33,
     "metadata": {},
     "output_type": "execute_result"
    }
   ],
   "source": [
    "user_songs_features = df_user_songs.merge(df_user_features, how='inner', on='id')\n",
    "\n",
    "print(user_songs_features.shape)\n",
    "user_songs_features.head(3)"
   ]
  },
  {
   "cell_type": "markdown",
   "metadata": {},
   "source": [
    "Verificando integridade dos dados"
   ]
  },
  {
   "cell_type": "code",
   "execution_count": 40,
   "metadata": {},
   "outputs": [
    {
     "data": {
      "text/plain": [
       "<matplotlib.axes._subplots.AxesSubplot at 0x1e9c3017f60>"
      ]
     },
     "execution_count": 40,
     "metadata": {},
     "output_type": "execute_result"
    },
    {
     "data": {
      "image/png": "[encoded data removed]",
      "text/plain": [
       "<Figure size 1800x720 with 2 Axes>"
      ]
     },
     "metadata": {},
     "output_type": "display_data"
    }
   ],
   "source": [
    "msno.matrix(user_songs_features)"
   ]
  },
  {
   "cell_type": "markdown",
   "metadata": {},
   "source": [
    "### Exportando para csv\n",
    "\n",
    "- Dataset de treino (clustering)"
   ]
  },
  {
   "cell_type": "code",
   "execution_count": 9,
   "metadata": {},
   "outputs": [],
   "source": [
    "songs_features.to_csv('datasets/songs_to_cluster.csv', index=False)"
   ]
  },
  {
   "cell_type": "markdown",
   "metadata": {},
   "source": [
    "- Dataset do usuário"
   ]
  },
  {
   "cell_type": "code",
   "execution_count": 42,
   "metadata": {},
   "outputs": [],
   "source": [
    "user_songs_features.to_csv('datasets/{}_songs.csv'.format(user), index=False)"
   ]
  }
 ],
 "metadata": {
  "kernelspec": {
   "display_name": "Python 3",
   "language": "python",
   "name": "python3"
  },
  "language_info": {
   "codemirror_mode": {
    "name": "ipython",
    "version": 3
   },
   "file_extension": ".py",
   "mimetype": "text/x-python",
   "name": "python",
   "nbconvert_exporter": "python",
   "pygments_lexer": "ipython3",
   "version": "3.6.5"
  }
 },
 "nbformat": 4,
 "nbformat_minor": 2
}
